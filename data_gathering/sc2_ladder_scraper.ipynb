{
 "cells": [
  {
   "cell_type": "code",
   "execution_count": null,
   "metadata": {},
   "outputs": [],
   "source": [
    "!pip install --no-cache-dir pandas numpy beautifulsoup4 selenium webdriver-manager"
   ]
  },
  {
   "cell_type": "code",
   "execution_count": null,
   "metadata": {},
   "outputs": [],
   "source": [
    "import pandas as pd\n",
    "import numpy as np\n",
    "import time\n",
    "\n",
    "from bs4 import BeautifulSoup\n",
    "from selenium import webdriver\n",
    "from selenium.webdriver.chrome.service import Service\n",
    "from webdriver_manager.chrome import ChromeDriverManager\n",
    "\n",
    "import concurrent.futures"
   ]
  },
  {
   "cell_type": "code",
   "execution_count": null,
   "metadata": {},
   "outputs": [],
   "source": [
    "def scrape(seasons, ranks):\n",
    "    rank_names = {\n",
    "        'bro': 'Bronze',\n",
    "        'sil': 'Silver',\n",
    "        'gol': 'Gold',\n",
    "        'pla': 'Platinum',\n",
    "        'dia': 'Diamond',\n",
    "        'mas': 'Masters',\n",
    "        'gra': 'Grandmaster'\n",
    "    }\n",
    "    \n",
    "    id_anchor = 1 # remains static\n",
    "    data_list = []\n",
    "\n",
    "    # setup selenium web driver\n",
    "    service = Service(ChromeDriverManager().install())\n",
    "    driver = webdriver.Chrome(service=service)\n",
    "\n",
    "    for season in seasons:\n",
    "        for rank in ranks:\n",
    "            max_rating = 99999 # arbitrarily high max rating for new season\n",
    "            page_idx = 0 # start from first page for new season\n",
    "\n",
    "            while True:\n",
    "                print(f\"Season: {season}, Fetching page: {page_idx + 1}\")\n",
    "                url = f\"https://sc2pulse.nephest.com/sc2/?season={season}&queue=LOTV_1V1&team-type=ARRANGED&us=true&eu=true&kr=true&cn=true&{rank}=true&page={page_idx}&type=ladder&ratingAnchor={max_rating}&idAnchor={id_anchor}&count=1#ladder-top\"\n",
    "\n",
    "                driver.get(url)\n",
    "                time.sleep(10) # change based on tolerance of website\n",
    "\n",
    "                soup = BeautifulSoup(driver.page_source, 'html.parser')\n",
    "                ladder_table_container = soup.find('div', id='ladder-table-container')\n",
    "                ratings_on_page = []\n",
    "\n",
    "                if ladder_table_container:\n",
    "                    tbody = ladder_table_container.find('tbody')\n",
    "                    rows = tbody.find_all('tr')\n",
    "                    if not rows:\n",
    "                        print(f\"No more data found on this page for season {season}.\")\n",
    "                        break\n",
    "\n",
    "                    for row in rows:\n",
    "                        rating = row.find('td', class_='rating').text.strip()\n",
    "                        race_img = row.find('span', class_='race-percentage-entry').find('img', alt=True)\n",
    "                        region_img = row.find('img', class_='table-image-long')\n",
    "                        race = race_img['alt'] if race_img else 'Random'\n",
    "                        region = region_img['alt'] if region_img else 'Unknown'\n",
    "\n",
    "                        data_list.append({'Region': region.upper(), 'Season': int(season), 'MMR': int(rating), 'Rank': rank_names.get(rank, rank), 'Race': race.title()})\n",
    "\n",
    "                if ratings_on_page:\n",
    "                    max_rating = min(ratings_on_page)\n",
    "                page_idx += 1\n",
    "\n",
    "    driver.quit()\n",
    "    return data_list"
   ]
  },
  {
   "cell_type": "code",
   "execution_count": null,
   "metadata": {},
   "outputs": [],
   "source": [
    "total_seasons = np.arange(28, 59) # seasons 28 through 58\n",
    "season_splits = np.array_split(total_seasons, 2) # split seasons into 2 parts\n",
    "ranks = ['bro', 'sil', 'gol', 'pla', 'dia', 'mas', 'gra']\n",
    "\n",
    "# parallelize web scraping\n",
    "with concurrent.futures.ThreadPoolExecutor() as executor:\n",
    "    # call `scrape` on all worker nodes\n",
    "    futures = [executor.submit(scrape, seasons, ranks) for seasons in season_splits]\n",
    "    \n",
    "    # empty list to aggregate data\n",
    "    all_data = []\n",
    "    for future in concurrent.futures.as_completed(futures):\n",
    "        all_data.extend(future.result())\n",
    "\n",
    "# convert to df + save\n",
    "data = pd.DataFrame(all_data)\n",
    "data.to_csv('data/sc2_ladder.csv', index=False)"
   ]
  }
 ],
 "metadata": {
  "kernelspec": {
   "display_name": "dsan5300",
   "language": "python",
   "name": "dsan5300"
  },
  "language_info": {
   "codemirror_mode": {
    "name": "ipython",
    "version": 3
   },
   "file_extension": ".py",
   "mimetype": "text/x-python",
   "name": "python",
   "nbconvert_exporter": "python",
   "pygments_lexer": "ipython3",
   "version": "3.11.6"
  }
 },
 "nbformat": 4,
 "nbformat_minor": 2
}
