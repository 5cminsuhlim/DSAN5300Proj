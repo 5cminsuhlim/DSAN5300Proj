{
  "cells": [
    {
      "cell_type": "raw",
      "id": "991217c4",
      "metadata": {},
      "source": [
        "---\n",
        "format:\n",
        "  html:\n",
        "    embed-resources: true\n",
        "    echo: true\n",
        "    toc: true\n",
        "title: What is E-Sports\n",
        "---"
      ]
    },
    {
      "cell_type": "markdown",
      "id": "5ba75bf4",
      "metadata": {},
      "source": [
        "Esports is a type of sport that elevates video games competitions to \"competitive level\". Esports is a intellectural confrontation sport between people using electronic equipment as sports equipment. More than just entertainment, esports requires participants to possess a high level of thinking skills, reflexes, coordination and good team spirits. In esports, participants are usually professional players with high gaming skills who compete for prize money by signing up with specific teams and participating in esports tournaments on a regular basis. \n",
        "\n",
        "## Landscape of E-Sports\n",
        "\n",
        "Video game culture has always included organized competitions, although they were mostly between amateurs until the late 2000s, when professional players began to participate and live broadcasting of these events became quite popular. Esports had become a major force in the video game business by the 2010s, when a large number of game developers actively designed and funded tournaments and other events.\n"
      ]
    },
    {
      "cell_type": "code",
      "execution_count": 10,
      "id": "1b3ebbdc",
      "metadata": {},
      "outputs": [],
      "source": [
        "import pandas as pd\n",
        "import numpy as np\n",
        "import matplotlib.pyplot as plt\n",
        "import plotly.express as px\n",
        "import plotly.graph_objects as go"
      ]
    },
    {
      "cell_type": "code",
      "execution_count": 11,
      "id": "7f67abe1",
      "metadata": {},
      "outputs": [],
      "source": [
        "esports = pd.read_csv(\"../data/ESport_Earnings.csv\", encoding='latin-1')\n",
        "# general = pd.read_csv(\"../data/GeneralEsportData.csv\")"
      ]
    },
    {
      "cell_type": "code",
      "execution_count": 12,
      "id": "b0ee07ea",
      "metadata": {},
      "outputs": [],
      "source": [
        "# There are some \"Releaseyear\" data invalid, so we need to remove them\n",
        "esports = esports[esports['Releaseyear'] >= 1980]"
      ]
    },
    {
      "cell_type": "code",
      "execution_count": 13,
      "id": "413926a0",
      "metadata": {},
      "outputs": [],
      "source": [
        "# esports.describe()"
      ]
    },
    {
      "cell_type": "markdown",
      "id": "346bb46f",
      "metadata": {},
      "source": [
        "## Games differed By Genre\n",
        "\n",
        "### Number of Games Released per Year by Genre"
      ]
    },
    {
      "cell_type": "code",
      "execution_count": 14,
      "id": "29077b0c",
      "metadata": {},
      "outputs": [
        {
          "data": {
            "application/vnd.plotly.v1+json": {
              "config": {
                "plotlyServerURL": "https://plot.ly"
              },
              "data": [
                {
                  "mode": "lines+markers",
                  "name": "Puzzle Game",
                  "type": "scatter",
                  "x": [
                    1981,
                    1989,
                    1996,
                    1997,
                    2008,
                    2011,
                    2014,
                    2019,
                    2020
                  ],
                  "y": [
                    1,
                    1,
                    1,
                    1,
                    1,
                    2,
                    3,
                    2,
                    2
                  ]
                },
                {
                  "mode": "lines+markers",
                  "name": "Fighting Game",
                  "type": "scatter",
                  "x": [
                    1993,
                    1994,
                    1995,
                    1996,
                    1997,
                    1998,
                    1999,
                    2000,
                    2001,
                    2002,
                    2003,
                    2004,
                    2005,
                    2006,
                    2007,
                    2008,
                    2009,
                    2010,
                    2011,
                    2012,
                    2013,
                    2014,
                    2015,
                    2016,
                    2017,
                    2018,
                    2019,
                    2020
                  ],
                  "y": [
                    1,
                    2,
                    3,
                    1,
                    1,
                    6,
                    6,
                    4,
                    4,
                    3,
                    3,
                    5,
                    6,
                    1,
                    4,
                    6,
                    5,
                    9,
                    6,
                    7,
                    10,
                    8,
                    12,
                    7,
                    8,
                    11,
                    16,
                    5
                  ]
                },
                {
                  "mode": "lines+markers",
                  "name": "Sports",
                  "type": "scatter",
                  "x": [
                    1993,
                    1999,
                    2000,
                    2002,
                    2003,
                    2004,
                    2005,
                    2006,
                    2007,
                    2008,
                    2009,
                    2010,
                    2011,
                    2012,
                    2013,
                    2014,
                    2015,
                    2016,
                    2017,
                    2018,
                    2019
                  ],
                  "y": [
                    1,
                    2,
                    1,
                    2,
                    3,
                    2,
                    3,
                    3,
                    4,
                    4,
                    2,
                    1,
                    2,
                    6,
                    3,
                    4,
                    4,
                    4,
                    5,
                    7,
                    3
                  ]
                },
                {
                  "mode": "lines+markers",
                  "name": "First-Person Shooter",
                  "type": "scatter",
                  "x": [
                    1994,
                    1996,
                    1997,
                    1999,
                    2000,
                    2001,
                    2002,
                    2003,
                    2004,
                    2005,
                    2006,
                    2007,
                    2008,
                    2009,
                    2010,
                    2011,
                    2012,
                    2013,
                    2014,
                    2015,
                    2016,
                    2017,
                    2018,
                    2019,
                    2020
                  ],
                  "y": [
                    1,
                    1,
                    1,
                    3,
                    1,
                    3,
                    2,
                    3,
                    7,
                    6,
                    3,
                    9,
                    3,
                    1,
                    4,
                    3,
                    4,
                    6,
                    2,
                    11,
                    8,
                    8,
                    7,
                    4,
                    5
                  ]
                },
                {
                  "mode": "lines+markers",
                  "name": "Strategy",
                  "type": "scatter",
                  "x": [
                    1994,
                    1995,
                    1996,
                    1997,
                    1998,
                    1999,
                    2000,
                    2002,
                    2005,
                    2006,
                    2007,
                    2009,
                    2010,
                    2011,
                    2012,
                    2013,
                    2014,
                    2015,
                    2016,
                    2017,
                    2018,
                    2019,
                    2020
                  ],
                  "y": [
                    1,
                    1,
                    1,
                    1,
                    1,
                    1,
                    1,
                    3,
                    2,
                    1,
                    6,
                    1,
                    3,
                    1,
                    1,
                    1,
                    1,
                    2,
                    7,
                    2,
                    4,
                    5,
                    3
                  ]
                },
                {
                  "mode": "lines+markers",
                  "name": "Racing",
                  "type": "scatter",
                  "x": [
                    2001,
                    2002,
                    2003,
                    2004,
                    2005,
                    2006,
                    2007,
                    2008,
                    2009,
                    2011,
                    2013,
                    2014,
                    2015,
                    2016,
                    2017,
                    2018,
                    2019,
                    2020
                  ],
                  "y": [
                    2,
                    1,
                    3,
                    3,
                    3,
                    3,
                    3,
                    4,
                    2,
                    1,
                    5,
                    2,
                    2,
                    2,
                    5,
                    3,
                    4,
                    1
                  ]
                },
                {
                  "mode": "lines+markers",
                  "name": "Collectible Card Game",
                  "type": "scatter",
                  "x": [
                    2002,
                    2014,
                    2016,
                    2017,
                    2018,
                    2020
                  ],
                  "y": [
                    1,
                    1,
                    3,
                    4,
                    2,
                    2
                  ]
                },
                {
                  "mode": "lines+markers",
                  "name": "Multiplayer Online Battle Arena",
                  "type": "scatter",
                  "x": [
                    2003,
                    2004,
                    2007,
                    2009,
                    2010,
                    2011,
                    2012,
                    2013,
                    2014,
                    2015,
                    2016,
                    2017,
                    2018,
                    2019,
                    2020
                  ],
                  "y": [
                    1,
                    1,
                    1,
                    1,
                    1,
                    2,
                    1,
                    1,
                    2,
                    4,
                    3,
                    1,
                    1,
                    1,
                    1
                  ]
                },
                {
                  "mode": "lines+markers",
                  "name": "Role-Playing Game",
                  "type": "scatter",
                  "x": [
                    2004,
                    2012,
                    2013,
                    2016
                  ],
                  "y": [
                    2,
                    1,
                    1,
                    1
                  ]
                },
                {
                  "mode": "lines+markers",
                  "name": "Third-Person Shooter",
                  "type": "scatter",
                  "x": [
                    2006,
                    2008,
                    2011,
                    2015,
                    2016,
                    2019
                  ],
                  "y": [
                    1,
                    1,
                    1,
                    1,
                    1,
                    2
                  ]
                },
                {
                  "mode": "lines+markers",
                  "name": "Battle Royale",
                  "type": "scatter",
                  "x": [
                    2016,
                    2017,
                    2018,
                    2019,
                    2020
                  ],
                  "y": [
                    1,
                    5,
                    2,
                    1,
                    2
                  ]
                }
              ],
              "layout": {
                "plot_bgcolor": "white",
                "template": {
                  "data": {
                    "bar": [
                      {
                        "error_x": {
                          "color": "#2a3f5f"
                        },
                        "error_y": {
                          "color": "#2a3f5f"
                        },
                        "marker": {
                          "line": {
                            "color": "#E5ECF6",
                            "width": 0.5
                          },
                          "pattern": {
                            "fillmode": "overlay",
                            "size": 10,
                            "solidity": 0.2
                          }
                        },
                        "type": "bar"
                      }
                    ],
                    "barpolar": [
                      {
                        "marker": {
                          "line": {
                            "color": "#E5ECF6",
                            "width": 0.5
                          },
                          "pattern": {
                            "fillmode": "overlay",
                            "size": 10,
                            "solidity": 0.2
                          }
                        },
                        "type": "barpolar"
                      }
                    ],
                    "carpet": [
                      {
                        "aaxis": {
                          "endlinecolor": "#2a3f5f",
                          "gridcolor": "white",
                          "linecolor": "white",
                          "minorgridcolor": "white",
                          "startlinecolor": "#2a3f5f"
                        },
                        "baxis": {
                          "endlinecolor": "#2a3f5f",
                          "gridcolor": "white",
                          "linecolor": "white",
                          "minorgridcolor": "white",
                          "startlinecolor": "#2a3f5f"
                        },
                        "type": "carpet"
                      }
                    ],
                    "choropleth": [
                      {
                        "colorbar": {
                          "outlinewidth": 0,
                          "ticks": ""
                        },
                        "type": "choropleth"
                      }
                    ],
                    "contour": [
                      {
                        "colorbar": {
                          "outlinewidth": 0,
                          "ticks": ""
                        },
                        "colorscale": [
                          [
                            0,
                            "#0d0887"
                          ],
                          [
                            0.1111111111111111,
                            "#46039f"
                          ],
                          [
                            0.2222222222222222,
                            "#7201a8"
                          ],
                          [
                            0.3333333333333333,
                            "#9c179e"
                          ],
                          [
                            0.4444444444444444,
                            "#bd3786"
                          ],
                          [
                            0.5555555555555556,
                            "#d8576b"
                          ],
                          [
                            0.6666666666666666,
                            "#ed7953"
                          ],
                          [
                            0.7777777777777778,
                            "#fb9f3a"
                          ],
                          [
                            0.8888888888888888,
                            "#fdca26"
                          ],
                          [
                            1,
                            "#f0f921"
                          ]
                        ],
                        "type": "contour"
                      }
                    ],
                    "contourcarpet": [
                      {
                        "colorbar": {
                          "outlinewidth": 0,
                          "ticks": ""
                        },
                        "type": "contourcarpet"
                      }
                    ],
                    "heatmap": [
                      {
                        "colorbar": {
                          "outlinewidth": 0,
                          "ticks": ""
                        },
                        "colorscale": [
                          [
                            0,
                            "#0d0887"
                          ],
                          [
                            0.1111111111111111,
                            "#46039f"
                          ],
                          [
                            0.2222222222222222,
                            "#7201a8"
                          ],
                          [
                            0.3333333333333333,
                            "#9c179e"
                          ],
                          [
                            0.4444444444444444,
                            "#bd3786"
                          ],
                          [
                            0.5555555555555556,
                            "#d8576b"
                          ],
                          [
                            0.6666666666666666,
                            "#ed7953"
                          ],
                          [
                            0.7777777777777778,
                            "#fb9f3a"
                          ],
                          [
                            0.8888888888888888,
                            "#fdca26"
                          ],
                          [
                            1,
                            "#f0f921"
                          ]
                        ],
                        "type": "heatmap"
                      }
                    ],
                    "heatmapgl": [
                      {
                        "colorbar": {
                          "outlinewidth": 0,
                          "ticks": ""
                        },
                        "colorscale": [
                          [
                            0,
                            "#0d0887"
                          ],
                          [
                            0.1111111111111111,
                            "#46039f"
                          ],
                          [
                            0.2222222222222222,
                            "#7201a8"
                          ],
                          [
                            0.3333333333333333,
                            "#9c179e"
                          ],
                          [
                            0.4444444444444444,
                            "#bd3786"
                          ],
                          [
                            0.5555555555555556,
                            "#d8576b"
                          ],
                          [
                            0.6666666666666666,
                            "#ed7953"
                          ],
                          [
                            0.7777777777777778,
                            "#fb9f3a"
                          ],
                          [
                            0.8888888888888888,
                            "#fdca26"
                          ],
                          [
                            1,
                            "#f0f921"
                          ]
                        ],
                        "type": "heatmapgl"
                      }
                    ],
                    "histogram": [
                      {
                        "marker": {
                          "pattern": {
                            "fillmode": "overlay",
                            "size": 10,
                            "solidity": 0.2
                          }
                        },
                        "type": "histogram"
                      }
                    ],
                    "histogram2d": [
                      {
                        "colorbar": {
                          "outlinewidth": 0,
                          "ticks": ""
                        },
                        "colorscale": [
                          [
                            0,
                            "#0d0887"
                          ],
                          [
                            0.1111111111111111,
                            "#46039f"
                          ],
                          [
                            0.2222222222222222,
                            "#7201a8"
                          ],
                          [
                            0.3333333333333333,
                            "#9c179e"
                          ],
                          [
                            0.4444444444444444,
                            "#bd3786"
                          ],
                          [
                            0.5555555555555556,
                            "#d8576b"
                          ],
                          [
                            0.6666666666666666,
                            "#ed7953"
                          ],
                          [
                            0.7777777777777778,
                            "#fb9f3a"
                          ],
                          [
                            0.8888888888888888,
                            "#fdca26"
                          ],
                          [
                            1,
                            "#f0f921"
                          ]
                        ],
                        "type": "histogram2d"
                      }
                    ],
                    "histogram2dcontour": [
                      {
                        "colorbar": {
                          "outlinewidth": 0,
                          "ticks": ""
                        },
                        "colorscale": [
                          [
                            0,
                            "#0d0887"
                          ],
                          [
                            0.1111111111111111,
                            "#46039f"
                          ],
                          [
                            0.2222222222222222,
                            "#7201a8"
                          ],
                          [
                            0.3333333333333333,
                            "#9c179e"
                          ],
                          [
                            0.4444444444444444,
                            "#bd3786"
                          ],
                          [
                            0.5555555555555556,
                            "#d8576b"
                          ],
                          [
                            0.6666666666666666,
                            "#ed7953"
                          ],
                          [
                            0.7777777777777778,
                            "#fb9f3a"
                          ],
                          [
                            0.8888888888888888,
                            "#fdca26"
                          ],
                          [
                            1,
                            "#f0f921"
                          ]
                        ],
                        "type": "histogram2dcontour"
                      }
                    ],
                    "mesh3d": [
                      {
                        "colorbar": {
                          "outlinewidth": 0,
                          "ticks": ""
                        },
                        "type": "mesh3d"
                      }
                    ],
                    "parcoords": [
                      {
                        "line": {
                          "colorbar": {
                            "outlinewidth": 0,
                            "ticks": ""
                          }
                        },
                        "type": "parcoords"
                      }
                    ],
                    "pie": [
                      {
                        "automargin": true,
                        "type": "pie"
                      }
                    ],
                    "scatter": [
                      {
                        "fillpattern": {
                          "fillmode": "overlay",
                          "size": 10,
                          "solidity": 0.2
                        },
                        "type": "scatter"
                      }
                    ],
                    "scatter3d": [
                      {
                        "line": {
                          "colorbar": {
                            "outlinewidth": 0,
                            "ticks": ""
                          }
                        },
                        "marker": {
                          "colorbar": {
                            "outlinewidth": 0,
                            "ticks": ""
                          }
                        },
                        "type": "scatter3d"
                      }
                    ],
                    "scattercarpet": [
                      {
                        "marker": {
                          "colorbar": {
                            "outlinewidth": 0,
                            "ticks": ""
                          }
                        },
                        "type": "scattercarpet"
                      }
                    ],
                    "scattergeo": [
                      {
                        "marker": {
                          "colorbar": {
                            "outlinewidth": 0,
                            "ticks": ""
                          }
                        },
                        "type": "scattergeo"
                      }
                    ],
                    "scattergl": [
                      {
                        "marker": {
                          "colorbar": {
                            "outlinewidth": 0,
                            "ticks": ""
                          }
                        },
                        "type": "scattergl"
                      }
                    ],
                    "scattermapbox": [
                      {
                        "marker": {
                          "colorbar": {
                            "outlinewidth": 0,
                            "ticks": ""
                          }
                        },
                        "type": "scattermapbox"
                      }
                    ],
                    "scatterpolar": [
                      {
                        "marker": {
                          "colorbar": {
                            "outlinewidth": 0,
                            "ticks": ""
                          }
                        },
                        "type": "scatterpolar"
                      }
                    ],
                    "scatterpolargl": [
                      {
                        "marker": {
                          "colorbar": {
                            "outlinewidth": 0,
                            "ticks": ""
                          }
                        },
                        "type": "scatterpolargl"
                      }
                    ],
                    "scatterternary": [
                      {
                        "marker": {
                          "colorbar": {
                            "outlinewidth": 0,
                            "ticks": ""
                          }
                        },
                        "type": "scatterternary"
                      }
                    ],
                    "surface": [
                      {
                        "colorbar": {
                          "outlinewidth": 0,
                          "ticks": ""
                        },
                        "colorscale": [
                          [
                            0,
                            "#0d0887"
                          ],
                          [
                            0.1111111111111111,
                            "#46039f"
                          ],
                          [
                            0.2222222222222222,
                            "#7201a8"
                          ],
                          [
                            0.3333333333333333,
                            "#9c179e"
                          ],
                          [
                            0.4444444444444444,
                            "#bd3786"
                          ],
                          [
                            0.5555555555555556,
                            "#d8576b"
                          ],
                          [
                            0.6666666666666666,
                            "#ed7953"
                          ],
                          [
                            0.7777777777777778,
                            "#fb9f3a"
                          ],
                          [
                            0.8888888888888888,
                            "#fdca26"
                          ],
                          [
                            1,
                            "#f0f921"
                          ]
                        ],
                        "type": "surface"
                      }
                    ],
                    "table": [
                      {
                        "cells": {
                          "fill": {
                            "color": "#EBF0F8"
                          },
                          "line": {
                            "color": "white"
                          }
                        },
                        "header": {
                          "fill": {
                            "color": "#C8D4E3"
                          },
                          "line": {
                            "color": "white"
                          }
                        },
                        "type": "table"
                      }
                    ]
                  },
                  "layout": {
                    "annotationdefaults": {
                      "arrowcolor": "#2a3f5f",
                      "arrowhead": 0,
                      "arrowwidth": 1
                    },
                    "autotypenumbers": "strict",
                    "coloraxis": {
                      "colorbar": {
                        "outlinewidth": 0,
                        "ticks": ""
                      }
                    },
                    "colorscale": {
                      "diverging": [
                        [
                          0,
                          "#8e0152"
                        ],
                        [
                          0.1,
                          "#c51b7d"
                        ],
                        [
                          0.2,
                          "#de77ae"
                        ],
                        [
                          0.3,
                          "#f1b6da"
                        ],
                        [
                          0.4,
                          "#fde0ef"
                        ],
                        [
                          0.5,
                          "#f7f7f7"
                        ],
                        [
                          0.6,
                          "#e6f5d0"
                        ],
                        [
                          0.7,
                          "#b8e186"
                        ],
                        [
                          0.8,
                          "#7fbc41"
                        ],
                        [
                          0.9,
                          "#4d9221"
                        ],
                        [
                          1,
                          "#276419"
                        ]
                      ],
                      "sequential": [
                        [
                          0,
                          "#0d0887"
                        ],
                        [
                          0.1111111111111111,
                          "#46039f"
                        ],
                        [
                          0.2222222222222222,
                          "#7201a8"
                        ],
                        [
                          0.3333333333333333,
                          "#9c179e"
                        ],
                        [
                          0.4444444444444444,
                          "#bd3786"
                        ],
                        [
                          0.5555555555555556,
                          "#d8576b"
                        ],
                        [
                          0.6666666666666666,
                          "#ed7953"
                        ],
                        [
                          0.7777777777777778,
                          "#fb9f3a"
                        ],
                        [
                          0.8888888888888888,
                          "#fdca26"
                        ],
                        [
                          1,
                          "#f0f921"
                        ]
                      ],
                      "sequentialminus": [
                        [
                          0,
                          "#0d0887"
                        ],
                        [
                          0.1111111111111111,
                          "#46039f"
                        ],
                        [
                          0.2222222222222222,
                          "#7201a8"
                        ],
                        [
                          0.3333333333333333,
                          "#9c179e"
                        ],
                        [
                          0.4444444444444444,
                          "#bd3786"
                        ],
                        [
                          0.5555555555555556,
                          "#d8576b"
                        ],
                        [
                          0.6666666666666666,
                          "#ed7953"
                        ],
                        [
                          0.7777777777777778,
                          "#fb9f3a"
                        ],
                        [
                          0.8888888888888888,
                          "#fdca26"
                        ],
                        [
                          1,
                          "#f0f921"
                        ]
                      ]
                    },
                    "colorway": [
                      "#636efa",
                      "#EF553B",
                      "#00cc96",
                      "#ab63fa",
                      "#FFA15A",
                      "#19d3f3",
                      "#FF6692",
                      "#B6E880",
                      "#FF97FF",
                      "#FECB52"
                    ],
                    "font": {
                      "color": "#2a3f5f"
                    },
                    "geo": {
                      "bgcolor": "white",
                      "lakecolor": "white",
                      "landcolor": "#E5ECF6",
                      "showlakes": true,
                      "showland": true,
                      "subunitcolor": "white"
                    },
                    "hoverlabel": {
                      "align": "left"
                    },
                    "hovermode": "closest",
                    "mapbox": {
                      "style": "light"
                    },
                    "paper_bgcolor": "white",
                    "plot_bgcolor": "#E5ECF6",
                    "polar": {
                      "angularaxis": {
                        "gridcolor": "white",
                        "linecolor": "white",
                        "ticks": ""
                      },
                      "bgcolor": "#E5ECF6",
                      "radialaxis": {
                        "gridcolor": "white",
                        "linecolor": "white",
                        "ticks": ""
                      }
                    },
                    "scene": {
                      "xaxis": {
                        "backgroundcolor": "#E5ECF6",
                        "gridcolor": "white",
                        "gridwidth": 2,
                        "linecolor": "white",
                        "showbackground": true,
                        "ticks": "",
                        "zerolinecolor": "white"
                      },
                      "yaxis": {
                        "backgroundcolor": "#E5ECF6",
                        "gridcolor": "white",
                        "gridwidth": 2,
                        "linecolor": "white",
                        "showbackground": true,
                        "ticks": "",
                        "zerolinecolor": "white"
                      },
                      "zaxis": {
                        "backgroundcolor": "#E5ECF6",
                        "gridcolor": "white",
                        "gridwidth": 2,
                        "linecolor": "white",
                        "showbackground": true,
                        "ticks": "",
                        "zerolinecolor": "white"
                      }
                    },
                    "shapedefaults": {
                      "line": {
                        "color": "#2a3f5f"
                      }
                    },
                    "ternary": {
                      "aaxis": {
                        "gridcolor": "white",
                        "linecolor": "white",
                        "ticks": ""
                      },
                      "baxis": {
                        "gridcolor": "white",
                        "linecolor": "white",
                        "ticks": ""
                      },
                      "bgcolor": "#E5ECF6",
                      "caxis": {
                        "gridcolor": "white",
                        "linecolor": "white",
                        "ticks": ""
                      }
                    },
                    "title": {
                      "x": 0.05
                    },
                    "xaxis": {
                      "automargin": true,
                      "gridcolor": "white",
                      "linecolor": "white",
                      "ticks": "",
                      "title": {
                        "standoff": 15
                      },
                      "zerolinecolor": "white",
                      "zerolinewidth": 2
                    },
                    "yaxis": {
                      "automargin": true,
                      "gridcolor": "white",
                      "linecolor": "white",
                      "ticks": "",
                      "title": {
                        "standoff": 15
                      },
                      "zerolinecolor": "white",
                      "zerolinewidth": 2
                    }
                  }
                },
                "title": {
                  "text": "Number of Games Released per Year by Genre"
                },
                "updatemenus": [
                  {
                    "buttons": [
                      {
                        "args": [
                          {
                            "visible": [
                              true,
                              true,
                              true,
                              true,
                              true,
                              true,
                              true,
                              true,
                              true,
                              true,
                              true
                            ]
                          },
                          {
                            "title": "Number of Games Released per Year by Genre"
                          }
                        ],
                        "label": "All Genres",
                        "method": "update"
                      },
                      {
                        "args": [
                          {
                            "visible": [
                              true,
                              false,
                              false,
                              false,
                              false,
                              false,
                              false,
                              false,
                              false,
                              false,
                              false
                            ]
                          },
                          {
                            "title": "Number of Games Released per Year: Puzzle Game"
                          }
                        ],
                        "label": "Puzzle Game",
                        "method": "update"
                      },
                      {
                        "args": [
                          {
                            "visible": [
                              false,
                              true,
                              false,
                              false,
                              false,
                              false,
                              false,
                              false,
                              false,
                              false,
                              false
                            ]
                          },
                          {
                            "title": "Number of Games Released per Year: Fighting Game"
                          }
                        ],
                        "label": "Fighting Game",
                        "method": "update"
                      },
                      {
                        "args": [
                          {
                            "visible": [
                              false,
                              false,
                              true,
                              false,
                              false,
                              false,
                              false,
                              false,
                              false,
                              false,
                              false
                            ]
                          },
                          {
                            "title": "Number of Games Released per Year: Sports"
                          }
                        ],
                        "label": "Sports",
                        "method": "update"
                      },
                      {
                        "args": [
                          {
                            "visible": [
                              false,
                              false,
                              false,
                              true,
                              false,
                              false,
                              false,
                              false,
                              false,
                              false,
                              false
                            ]
                          },
                          {
                            "title": "Number of Games Released per Year: First-Person Shooter"
                          }
                        ],
                        "label": "First-Person Shooter",
                        "method": "update"
                      },
                      {
                        "args": [
                          {
                            "visible": [
                              false,
                              false,
                              false,
                              false,
                              true,
                              false,
                              false,
                              false,
                              false,
                              false,
                              false
                            ]
                          },
                          {
                            "title": "Number of Games Released per Year: Strategy"
                          }
                        ],
                        "label": "Strategy",
                        "method": "update"
                      },
                      {
                        "args": [
                          {
                            "visible": [
                              false,
                              false,
                              false,
                              false,
                              false,
                              true,
                              false,
                              false,
                              false,
                              false,
                              false
                            ]
                          },
                          {
                            "title": "Number of Games Released per Year: Racing"
                          }
                        ],
                        "label": "Racing",
                        "method": "update"
                      },
                      {
                        "args": [
                          {
                            "visible": [
                              false,
                              false,
                              false,
                              false,
                              false,
                              false,
                              true,
                              false,
                              false,
                              false,
                              false
                            ]
                          },
                          {
                            "title": "Number of Games Released per Year: Collectible Card Game"
                          }
                        ],
                        "label": "Collectible Card Game",
                        "method": "update"
                      },
                      {
                        "args": [
                          {
                            "visible": [
                              false,
                              false,
                              false,
                              false,
                              false,
                              false,
                              false,
                              true,
                              false,
                              false,
                              false
                            ]
                          },
                          {
                            "title": "Number of Games Released per Year: Multiplayer Online Battle Arena"
                          }
                        ],
                        "label": "Multiplayer Online Battle Arena",
                        "method": "update"
                      },
                      {
                        "args": [
                          {
                            "visible": [
                              false,
                              false,
                              false,
                              false,
                              false,
                              false,
                              false,
                              false,
                              true,
                              false,
                              false
                            ]
                          },
                          {
                            "title": "Number of Games Released per Year: Role-Playing Game"
                          }
                        ],
                        "label": "Role-Playing Game",
                        "method": "update"
                      },
                      {
                        "args": [
                          {
                            "visible": [
                              false,
                              false,
                              false,
                              false,
                              false,
                              false,
                              false,
                              false,
                              false,
                              true,
                              false
                            ]
                          },
                          {
                            "title": "Number of Games Released per Year: Third-Person Shooter"
                          }
                        ],
                        "label": "Third-Person Shooter",
                        "method": "update"
                      },
                      {
                        "args": [
                          {
                            "visible": [
                              false,
                              false,
                              false,
                              false,
                              false,
                              false,
                              false,
                              false,
                              false,
                              false,
                              true
                            ]
                          },
                          {
                            "title": "Number of Games Released per Year: Battle Royale"
                          }
                        ],
                        "label": "Battle Royale",
                        "method": "update"
                      }
                    ],
                    "direction": "down",
                    "pad": {
                      "r": 10,
                      "t": 10
                    },
                    "showactive": true,
                    "x": 0.1,
                    "xanchor": "left",
                    "y": 1.1,
                    "yanchor": "top"
                  }
                ],
                "xaxis": {
                  "range": [
                    1980,
                    2021
                  ],
                  "title": {
                    "text": "Release Year"
                  }
                },
                "yaxis": {
                  "title": {
                    "text": "Count"
                  }
                }
              }
            }
          },
          "metadata": {},
          "output_type": "display_data"
        }
      ],
      "source": [
        "df_count = esports.groupby(['Releaseyear', 'Genre']).size().reset_index(name='Count')\n",
        "\n",
        "fig = go.Figure()\n",
        "genres = df_count['Genre'].unique()\n",
        "\n",
        "for genre in genres:\n",
        "    fig.add_trace(\n",
        "        go.Scatter(\n",
        "            x=df_count[df_count['Genre'] == genre]['Releaseyear'],\n",
        "            y=df_count[df_count['Genre'] == genre]['Count'],\n",
        "            mode='lines+markers',\n",
        "            name=genre\n",
        "        )\n",
        "    )\n",
        "\n",
        "dropdown_buttons = [\n",
        "    {\n",
        "        'label': 'All Genres',\n",
        "        'method': 'update',\n",
        "        'args': [{'visible': [True] * len(genres)},\n",
        "                 {'title': 'Number of Games Released per Year by Genre'}]\n",
        "    }\n",
        "]\n",
        "\n",
        "for i, genre in enumerate(genres):\n",
        "    # True for the selected genre, False for the rest\n",
        "    visibility = [False] * len(genres)\n",
        "    visibility[i] = True\n",
        "\n",
        "    dropdown_button = {\n",
        "        'label': genre,\n",
        "        'method': 'update',\n",
        "        'args': [{'visible': visibility},\n",
        "                 {'title': f'Number of Games Released per Year: {genre}'}]\n",
        "    }\n",
        "    dropdown_buttons.append(dropdown_button)\n",
        "\n",
        "fig.update_layout(\n",
        "    updatemenus=[\n",
        "        {\n",
        "            'buttons': dropdown_buttons,\n",
        "            'direction': 'down',\n",
        "            'pad': {'r': 10, 't': 10},\n",
        "            'showactive': True,\n",
        "            'x': 0.1,\n",
        "            'xanchor': 'left',\n",
        "            'y': 1.1,\n",
        "            'yanchor': 'top'\n",
        "        }\n",
        "    ],\n",
        "    title='Number of Games Released per Year by Genre',\n",
        "    xaxis=dict(title='Release Year', range=[1980, 2021]),\n",
        "    yaxis=dict(title='Count'),\n",
        "    plot_bgcolor='white'\n",
        ")\n",
        "\n",
        "fig.write_html(\"../picture/game_release.html\")\n",
        "fig.show()"
      ]
    },
    {
      "cell_type": "markdown",
      "id": "104dfa03",
      "metadata": {},
      "source": [
        "### Genre vs. Prize Money\n",
        "\n",
        "How does the prize money vary across different game genres?\n"
      ]
    },
    {
      "cell_type": "code",
      "execution_count": 15,
      "id": "9026444e",
      "metadata": {},
      "outputs": [],
      "source": [
        "genre_money = esports.groupby('Genre')['TotalMoney'].sum()\n",
        "genre_money = pd.DataFrame(genre_money).round(2)\n",
        "genre_money = genre_money.reset_index()"
      ]
    },
    {
      "cell_type": "code",
      "execution_count": 16,
      "id": "2e9327e9",
      "metadata": {},
      "outputs": [
        {
          "data": {
            "application/vnd.plotly.v1+json": {
              "config": {
                "plotlyServerURL": "https://plot.ly"
              },
              "data": [
                {
                  "cells": {
                    "align": "left",
                    "fill": {
                      "color": "lavender"
                    },
                    "values": [
                      [
                        "Battle Royale",
                        "Collectible Card Game",
                        "Fighting Game",
                        "First-Person Shooter",
                        "Multiplayer Online Battle Arena",
                        "Puzzle Game",
                        "Racing",
                        "Role-Playing Game",
                        "Sports",
                        "Strategy",
                        "Third-Person Shooter"
                      ],
                      [
                        132922522.56,
                        34271397.99,
                        20170322.19,
                        228333624.76,
                        354299247.51,
                        39082.97,
                        7753196.92,
                        5968597.31,
                        26182617.56,
                        64507955.97,
                        4901986.38
                      ]
                    ]
                  },
                  "header": {
                    "align": "left",
                    "fill": {
                      "color": "paleturquoise"
                    },
                    "values": [
                      "Genre",
                      "TotalMoney"
                    ]
                  },
                  "type": "table"
                }
              ],
              "layout": {
                "template": {
                  "data": {
                    "bar": [
                      {
                        "error_x": {
                          "color": "#2a3f5f"
                        },
                        "error_y": {
                          "color": "#2a3f5f"
                        },
                        "marker": {
                          "line": {
                            "color": "#E5ECF6",
                            "width": 0.5
                          },
                          "pattern": {
                            "fillmode": "overlay",
                            "size": 10,
                            "solidity": 0.2
                          }
                        },
                        "type": "bar"
                      }
                    ],
                    "barpolar": [
                      {
                        "marker": {
                          "line": {
                            "color": "#E5ECF6",
                            "width": 0.5
                          },
                          "pattern": {
                            "fillmode": "overlay",
                            "size": 10,
                            "solidity": 0.2
                          }
                        },
                        "type": "barpolar"
                      }
                    ],
                    "carpet": [
                      {
                        "aaxis": {
                          "endlinecolor": "#2a3f5f",
                          "gridcolor": "white",
                          "linecolor": "white",
                          "minorgridcolor": "white",
                          "startlinecolor": "#2a3f5f"
                        },
                        "baxis": {
                          "endlinecolor": "#2a3f5f",
                          "gridcolor": "white",
                          "linecolor": "white",
                          "minorgridcolor": "white",
                          "startlinecolor": "#2a3f5f"
                        },
                        "type": "carpet"
                      }
                    ],
                    "choropleth": [
                      {
                        "colorbar": {
                          "outlinewidth": 0,
                          "ticks": ""
                        },
                        "type": "choropleth"
                      }
                    ],
                    "contour": [
                      {
                        "colorbar": {
                          "outlinewidth": 0,
                          "ticks": ""
                        },
                        "colorscale": [
                          [
                            0,
                            "#0d0887"
                          ],
                          [
                            0.1111111111111111,
                            "#46039f"
                          ],
                          [
                            0.2222222222222222,
                            "#7201a8"
                          ],
                          [
                            0.3333333333333333,
                            "#9c179e"
                          ],
                          [
                            0.4444444444444444,
                            "#bd3786"
                          ],
                          [
                            0.5555555555555556,
                            "#d8576b"
                          ],
                          [
                            0.6666666666666666,
                            "#ed7953"
                          ],
                          [
                            0.7777777777777778,
                            "#fb9f3a"
                          ],
                          [
                            0.8888888888888888,
                            "#fdca26"
                          ],
                          [
                            1,
                            "#f0f921"
                          ]
                        ],
                        "type": "contour"
                      }
                    ],
                    "contourcarpet": [
                      {
                        "colorbar": {
                          "outlinewidth": 0,
                          "ticks": ""
                        },
                        "type": "contourcarpet"
                      }
                    ],
                    "heatmap": [
                      {
                        "colorbar": {
                          "outlinewidth": 0,
                          "ticks": ""
                        },
                        "colorscale": [
                          [
                            0,
                            "#0d0887"
                          ],
                          [
                            0.1111111111111111,
                            "#46039f"
                          ],
                          [
                            0.2222222222222222,
                            "#7201a8"
                          ],
                          [
                            0.3333333333333333,
                            "#9c179e"
                          ],
                          [
                            0.4444444444444444,
                            "#bd3786"
                          ],
                          [
                            0.5555555555555556,
                            "#d8576b"
                          ],
                          [
                            0.6666666666666666,
                            "#ed7953"
                          ],
                          [
                            0.7777777777777778,
                            "#fb9f3a"
                          ],
                          [
                            0.8888888888888888,
                            "#fdca26"
                          ],
                          [
                            1,
                            "#f0f921"
                          ]
                        ],
                        "type": "heatmap"
                      }
                    ],
                    "heatmapgl": [
                      {
                        "colorbar": {
                          "outlinewidth": 0,
                          "ticks": ""
                        },
                        "colorscale": [
                          [
                            0,
                            "#0d0887"
                          ],
                          [
                            0.1111111111111111,
                            "#46039f"
                          ],
                          [
                            0.2222222222222222,
                            "#7201a8"
                          ],
                          [
                            0.3333333333333333,
                            "#9c179e"
                          ],
                          [
                            0.4444444444444444,
                            "#bd3786"
                          ],
                          [
                            0.5555555555555556,
                            "#d8576b"
                          ],
                          [
                            0.6666666666666666,
                            "#ed7953"
                          ],
                          [
                            0.7777777777777778,
                            "#fb9f3a"
                          ],
                          [
                            0.8888888888888888,
                            "#fdca26"
                          ],
                          [
                            1,
                            "#f0f921"
                          ]
                        ],
                        "type": "heatmapgl"
                      }
                    ],
                    "histogram": [
                      {
                        "marker": {
                          "pattern": {
                            "fillmode": "overlay",
                            "size": 10,
                            "solidity": 0.2
                          }
                        },
                        "type": "histogram"
                      }
                    ],
                    "histogram2d": [
                      {
                        "colorbar": {
                          "outlinewidth": 0,
                          "ticks": ""
                        },
                        "colorscale": [
                          [
                            0,
                            "#0d0887"
                          ],
                          [
                            0.1111111111111111,
                            "#46039f"
                          ],
                          [
                            0.2222222222222222,
                            "#7201a8"
                          ],
                          [
                            0.3333333333333333,
                            "#9c179e"
                          ],
                          [
                            0.4444444444444444,
                            "#bd3786"
                          ],
                          [
                            0.5555555555555556,
                            "#d8576b"
                          ],
                          [
                            0.6666666666666666,
                            "#ed7953"
                          ],
                          [
                            0.7777777777777778,
                            "#fb9f3a"
                          ],
                          [
                            0.8888888888888888,
                            "#fdca26"
                          ],
                          [
                            1,
                            "#f0f921"
                          ]
                        ],
                        "type": "histogram2d"
                      }
                    ],
                    "histogram2dcontour": [
                      {
                        "colorbar": {
                          "outlinewidth": 0,
                          "ticks": ""
                        },
                        "colorscale": [
                          [
                            0,
                            "#0d0887"
                          ],
                          [
                            0.1111111111111111,
                            "#46039f"
                          ],
                          [
                            0.2222222222222222,
                            "#7201a8"
                          ],
                          [
                            0.3333333333333333,
                            "#9c179e"
                          ],
                          [
                            0.4444444444444444,
                            "#bd3786"
                          ],
                          [
                            0.5555555555555556,
                            "#d8576b"
                          ],
                          [
                            0.6666666666666666,
                            "#ed7953"
                          ],
                          [
                            0.7777777777777778,
                            "#fb9f3a"
                          ],
                          [
                            0.8888888888888888,
                            "#fdca26"
                          ],
                          [
                            1,
                            "#f0f921"
                          ]
                        ],
                        "type": "histogram2dcontour"
                      }
                    ],
                    "mesh3d": [
                      {
                        "colorbar": {
                          "outlinewidth": 0,
                          "ticks": ""
                        },
                        "type": "mesh3d"
                      }
                    ],
                    "parcoords": [
                      {
                        "line": {
                          "colorbar": {
                            "outlinewidth": 0,
                            "ticks": ""
                          }
                        },
                        "type": "parcoords"
                      }
                    ],
                    "pie": [
                      {
                        "automargin": true,
                        "type": "pie"
                      }
                    ],
                    "scatter": [
                      {
                        "fillpattern": {
                          "fillmode": "overlay",
                          "size": 10,
                          "solidity": 0.2
                        },
                        "type": "scatter"
                      }
                    ],
                    "scatter3d": [
                      {
                        "line": {
                          "colorbar": {
                            "outlinewidth": 0,
                            "ticks": ""
                          }
                        },
                        "marker": {
                          "colorbar": {
                            "outlinewidth": 0,
                            "ticks": ""
                          }
                        },
                        "type": "scatter3d"
                      }
                    ],
                    "scattercarpet": [
                      {
                        "marker": {
                          "colorbar": {
                            "outlinewidth": 0,
                            "ticks": ""
                          }
                        },
                        "type": "scattercarpet"
                      }
                    ],
                    "scattergeo": [
                      {
                        "marker": {
                          "colorbar": {
                            "outlinewidth": 0,
                            "ticks": ""
                          }
                        },
                        "type": "scattergeo"
                      }
                    ],
                    "scattergl": [
                      {
                        "marker": {
                          "colorbar": {
                            "outlinewidth": 0,
                            "ticks": ""
                          }
                        },
                        "type": "scattergl"
                      }
                    ],
                    "scattermapbox": [
                      {
                        "marker": {
                          "colorbar": {
                            "outlinewidth": 0,
                            "ticks": ""
                          }
                        },
                        "type": "scattermapbox"
                      }
                    ],
                    "scatterpolar": [
                      {
                        "marker": {
                          "colorbar": {
                            "outlinewidth": 0,
                            "ticks": ""
                          }
                        },
                        "type": "scatterpolar"
                      }
                    ],
                    "scatterpolargl": [
                      {
                        "marker": {
                          "colorbar": {
                            "outlinewidth": 0,
                            "ticks": ""
                          }
                        },
                        "type": "scatterpolargl"
                      }
                    ],
                    "scatterternary": [
                      {
                        "marker": {
                          "colorbar": {
                            "outlinewidth": 0,
                            "ticks": ""
                          }
                        },
                        "type": "scatterternary"
                      }
                    ],
                    "surface": [
                      {
                        "colorbar": {
                          "outlinewidth": 0,
                          "ticks": ""
                        },
                        "colorscale": [
                          [
                            0,
                            "#0d0887"
                          ],
                          [
                            0.1111111111111111,
                            "#46039f"
                          ],
                          [
                            0.2222222222222222,
                            "#7201a8"
                          ],
                          [
                            0.3333333333333333,
                            "#9c179e"
                          ],
                          [
                            0.4444444444444444,
                            "#bd3786"
                          ],
                          [
                            0.5555555555555556,
                            "#d8576b"
                          ],
                          [
                            0.6666666666666666,
                            "#ed7953"
                          ],
                          [
                            0.7777777777777778,
                            "#fb9f3a"
                          ],
                          [
                            0.8888888888888888,
                            "#fdca26"
                          ],
                          [
                            1,
                            "#f0f921"
                          ]
                        ],
                        "type": "surface"
                      }
                    ],
                    "table": [
                      {
                        "cells": {
                          "fill": {
                            "color": "#EBF0F8"
                          },
                          "line": {
                            "color": "white"
                          }
                        },
                        "header": {
                          "fill": {
                            "color": "#C8D4E3"
                          },
                          "line": {
                            "color": "white"
                          }
                        },
                        "type": "table"
                      }
                    ]
                  },
                  "layout": {
                    "annotationdefaults": {
                      "arrowcolor": "#2a3f5f",
                      "arrowhead": 0,
                      "arrowwidth": 1
                    },
                    "autotypenumbers": "strict",
                    "coloraxis": {
                      "colorbar": {
                        "outlinewidth": 0,
                        "ticks": ""
                      }
                    },
                    "colorscale": {
                      "diverging": [
                        [
                          0,
                          "#8e0152"
                        ],
                        [
                          0.1,
                          "#c51b7d"
                        ],
                        [
                          0.2,
                          "#de77ae"
                        ],
                        [
                          0.3,
                          "#f1b6da"
                        ],
                        [
                          0.4,
                          "#fde0ef"
                        ],
                        [
                          0.5,
                          "#f7f7f7"
                        ],
                        [
                          0.6,
                          "#e6f5d0"
                        ],
                        [
                          0.7,
                          "#b8e186"
                        ],
                        [
                          0.8,
                          "#7fbc41"
                        ],
                        [
                          0.9,
                          "#4d9221"
                        ],
                        [
                          1,
                          "#276419"
                        ]
                      ],
                      "sequential": [
                        [
                          0,
                          "#0d0887"
                        ],
                        [
                          0.1111111111111111,
                          "#46039f"
                        ],
                        [
                          0.2222222222222222,
                          "#7201a8"
                        ],
                        [
                          0.3333333333333333,
                          "#9c179e"
                        ],
                        [
                          0.4444444444444444,
                          "#bd3786"
                        ],
                        [
                          0.5555555555555556,
                          "#d8576b"
                        ],
                        [
                          0.6666666666666666,
                          "#ed7953"
                        ],
                        [
                          0.7777777777777778,
                          "#fb9f3a"
                        ],
                        [
                          0.8888888888888888,
                          "#fdca26"
                        ],
                        [
                          1,
                          "#f0f921"
                        ]
                      ],
                      "sequentialminus": [
                        [
                          0,
                          "#0d0887"
                        ],
                        [
                          0.1111111111111111,
                          "#46039f"
                        ],
                        [
                          0.2222222222222222,
                          "#7201a8"
                        ],
                        [
                          0.3333333333333333,
                          "#9c179e"
                        ],
                        [
                          0.4444444444444444,
                          "#bd3786"
                        ],
                        [
                          0.5555555555555556,
                          "#d8576b"
                        ],
                        [
                          0.6666666666666666,
                          "#ed7953"
                        ],
                        [
                          0.7777777777777778,
                          "#fb9f3a"
                        ],
                        [
                          0.8888888888888888,
                          "#fdca26"
                        ],
                        [
                          1,
                          "#f0f921"
                        ]
                      ]
                    },
                    "colorway": [
                      "#636efa",
                      "#EF553B",
                      "#00cc96",
                      "#ab63fa",
                      "#FFA15A",
                      "#19d3f3",
                      "#FF6692",
                      "#B6E880",
                      "#FF97FF",
                      "#FECB52"
                    ],
                    "font": {
                      "color": "#2a3f5f"
                    },
                    "geo": {
                      "bgcolor": "white",
                      "lakecolor": "white",
                      "landcolor": "#E5ECF6",
                      "showlakes": true,
                      "showland": true,
                      "subunitcolor": "white"
                    },
                    "hoverlabel": {
                      "align": "left"
                    },
                    "hovermode": "closest",
                    "mapbox": {
                      "style": "light"
                    },
                    "paper_bgcolor": "white",
                    "plot_bgcolor": "#E5ECF6",
                    "polar": {
                      "angularaxis": {
                        "gridcolor": "white",
                        "linecolor": "white",
                        "ticks": ""
                      },
                      "bgcolor": "#E5ECF6",
                      "radialaxis": {
                        "gridcolor": "white",
                        "linecolor": "white",
                        "ticks": ""
                      }
                    },
                    "scene": {
                      "xaxis": {
                        "backgroundcolor": "#E5ECF6",
                        "gridcolor": "white",
                        "gridwidth": 2,
                        "linecolor": "white",
                        "showbackground": true,
                        "ticks": "",
                        "zerolinecolor": "white"
                      },
                      "yaxis": {
                        "backgroundcolor": "#E5ECF6",
                        "gridcolor": "white",
                        "gridwidth": 2,
                        "linecolor": "white",
                        "showbackground": true,
                        "ticks": "",
                        "zerolinecolor": "white"
                      },
                      "zaxis": {
                        "backgroundcolor": "#E5ECF6",
                        "gridcolor": "white",
                        "gridwidth": 2,
                        "linecolor": "white",
                        "showbackground": true,
                        "ticks": "",
                        "zerolinecolor": "white"
                      }
                    },
                    "shapedefaults": {
                      "line": {
                        "color": "#2a3f5f"
                      }
                    },
                    "ternary": {
                      "aaxis": {
                        "gridcolor": "white",
                        "linecolor": "white",
                        "ticks": ""
                      },
                      "baxis": {
                        "gridcolor": "white",
                        "linecolor": "white",
                        "ticks": ""
                      },
                      "bgcolor": "#E5ECF6",
                      "caxis": {
                        "gridcolor": "white",
                        "linecolor": "white",
                        "ticks": ""
                      }
                    },
                    "title": {
                      "x": 0.05
                    },
                    "xaxis": {
                      "automargin": true,
                      "gridcolor": "white",
                      "linecolor": "white",
                      "ticks": "",
                      "title": {
                        "standoff": 15
                      },
                      "zerolinecolor": "white",
                      "zerolinewidth": 2
                    },
                    "yaxis": {
                      "automargin": true,
                      "gridcolor": "white",
                      "linecolor": "white",
                      "ticks": "",
                      "title": {
                        "standoff": 15
                      },
                      "zerolinecolor": "white",
                      "zerolinewidth": 2
                    }
                  }
                }
              }
            }
          },
          "metadata": {},
          "output_type": "display_data"
        }
      ],
      "source": [
        "fig = go.Figure(data=[go.Table(\n",
        "    header=dict(values=list(genre_money.columns),\n",
        "                fill_color='paleturquoise',\n",
        "                align='left'),\n",
        "    cells=dict(values=[genre_money.Genre, genre_money.TotalMoney],\n",
        "               fill_color='lavender',\n",
        "               align='left'))\n",
        "])\n",
        "fig.write_html(\"../picture/game_money.html\")\n",
        "fig.show()"
      ]
    },
    {
      "cell_type": "code",
      "execution_count": 17,
      "id": "7dfc9226",
      "metadata": {},
      "outputs": [],
      "source": [
        "# df_count = esports.groupby(['Releaseyear', 'Genre']).size().reset_index(name='Count')\n",
        "# fig = px.line(df_count, x='Releaseyear', y='Count', color='Genre', \n",
        "#               markers=True, title='Number of Games Released per Year by Genre')\n",
        "\n",
        "# fig.show()"
      ]
    },
    {
      "cell_type": "markdown",
      "id": "b04186ed",
      "metadata": {},
      "source": [
        "## Performance of different games in E-Sports\n",
        "\n",
        "### Popularity of different games \n",
        "\n",
        "Which game has the highest number of players, tournaments and total prize money??\n"
      ]
    },
    {
      "cell_type": "code",
      "execution_count": 18,
      "id": "79cf1c86",
      "metadata": {},
      "outputs": [
        {
          "data": {
            "text/html": [
              "<div>\n",
              "<style scoped>\n",
              "    .dataframe tbody tr th:only-of-type {\n",
              "        vertical-align: middle;\n",
              "    }\n",
              "\n",
              "    .dataframe tbody tr th {\n",
              "        vertical-align: top;\n",
              "    }\n",
              "\n",
              "    .dataframe thead th {\n",
              "        text-align: right;\n",
              "    }\n",
              "</style>\n",
              "<table border=\"1\" class=\"dataframe\">\n",
              "  <thead>\n",
              "    <tr style=\"text-align: right;\">\n",
              "      <th></th>\n",
              "      <th>GameName</th>\n",
              "      <th>PlayerNo</th>\n",
              "      <th>TournamentNo</th>\n",
              "      <th>TotalMoney</th>\n",
              "    </tr>\n",
              "  </thead>\n",
              "  <tbody>\n",
              "    <tr>\n",
              "      <th>0</th>\n",
              "      <td>Counter-Strike: Global Offensive</td>\n",
              "      <td>13032</td>\n",
              "      <td>5252</td>\n",
              "      <td>1.024743e+08</td>\n",
              "    </tr>\n",
              "    <tr>\n",
              "      <th>1</th>\n",
              "      <td>League of Legends</td>\n",
              "      <td>7130</td>\n",
              "      <td>2477</td>\n",
              "      <td>7.900345e+07</td>\n",
              "    </tr>\n",
              "    <tr>\n",
              "      <th>2</th>\n",
              "      <td>Fortnite</td>\n",
              "      <td>4347</td>\n",
              "      <td>660</td>\n",
              "      <td>9.750842e+07</td>\n",
              "    </tr>\n",
              "    <tr>\n",
              "      <th>3</th>\n",
              "      <td>Counter-Strike</td>\n",
              "      <td>4137</td>\n",
              "      <td>995</td>\n",
              "      <td>1.349423e+07</td>\n",
              "    </tr>\n",
              "    <tr>\n",
              "      <th>4</th>\n",
              "      <td>Dota 2</td>\n",
              "      <td>3836</td>\n",
              "      <td>1434</td>\n",
              "      <td>2.274199e+08</td>\n",
              "    </tr>\n",
              "    <tr>\n",
              "      <th>5</th>\n",
              "      <td>Overwatch</td>\n",
              "      <td>3494</td>\n",
              "      <td>743</td>\n",
              "      <td>2.604933e+07</td>\n",
              "    </tr>\n",
              "    <tr>\n",
              "      <th>6</th>\n",
              "      <td>PLAYERUNKNOWN'S BATTLEGROUNDS</td>\n",
              "      <td>2754</td>\n",
              "      <td>294</td>\n",
              "      <td>2.371038e+07</td>\n",
              "    </tr>\n",
              "    <tr>\n",
              "      <th>7</th>\n",
              "      <td>Hearthstone</td>\n",
              "      <td>2423</td>\n",
              "      <td>898</td>\n",
              "      <td>2.309838e+07</td>\n",
              "    </tr>\n",
              "    <tr>\n",
              "      <th>8</th>\n",
              "      <td>StarCraft II</td>\n",
              "      <td>2078</td>\n",
              "      <td>5909</td>\n",
              "      <td>3.391406e+07</td>\n",
              "    </tr>\n",
              "    <tr>\n",
              "      <th>9</th>\n",
              "      <td>Super Smash Bros. Ultimate</td>\n",
              "      <td>1879</td>\n",
              "      <td>1197</td>\n",
              "      <td>1.311868e+06</td>\n",
              "    </tr>\n",
              "    <tr>\n",
              "      <th>10</th>\n",
              "      <td>Super Smash Bros. Melee</td>\n",
              "      <td>1878</td>\n",
              "      <td>2608</td>\n",
              "      <td>3.210134e+06</td>\n",
              "    </tr>\n",
              "    <tr>\n",
              "      <th>11</th>\n",
              "      <td>VALORANT</td>\n",
              "      <td>1662</td>\n",
              "      <td>247</td>\n",
              "      <td>1.272788e+06</td>\n",
              "    </tr>\n",
              "    <tr>\n",
              "      <th>12</th>\n",
              "      <td>Rainbow Six Siege</td>\n",
              "      <td>1552</td>\n",
              "      <td>228</td>\n",
              "      <td>1.221453e+07</td>\n",
              "    </tr>\n",
              "    <tr>\n",
              "      <th>13</th>\n",
              "      <td>Counter-Strike: Source</td>\n",
              "      <td>1502</td>\n",
              "      <td>333</td>\n",
              "      <td>3.117222e+06</td>\n",
              "    </tr>\n",
              "    <tr>\n",
              "      <th>14</th>\n",
              "      <td>Team Fortress 2</td>\n",
              "      <td>1364</td>\n",
              "      <td>197</td>\n",
              "      <td>7.180788e+05</td>\n",
              "    </tr>\n",
              "  </tbody>\n",
              "</table>\n",
              "</div>"
            ],
            "text/plain": [
              "                            GameName  PlayerNo  TournamentNo    TotalMoney\n",
              "0   Counter-Strike: Global Offensive     13032          5252  1.024743e+08\n",
              "1                  League of Legends      7130          2477  7.900345e+07\n",
              "2                           Fortnite      4347           660  9.750842e+07\n",
              "3                     Counter-Strike      4137           995  1.349423e+07\n",
              "4                             Dota 2      3836          1434  2.274199e+08\n",
              "5                          Overwatch      3494           743  2.604933e+07\n",
              "6      PLAYERUNKNOWN'S BATTLEGROUNDS      2754           294  2.371038e+07\n",
              "7                        Hearthstone      2423           898  2.309838e+07\n",
              "8                       StarCraft II      2078          5909  3.391406e+07\n",
              "9         Super Smash Bros. Ultimate      1879          1197  1.311868e+06\n",
              "10           Super Smash Bros. Melee      1878          2608  3.210134e+06\n",
              "11                          VALORANT      1662           247  1.272788e+06\n",
              "12                 Rainbow Six Siege      1552           228  1.221453e+07\n",
              "13            Counter-Strike: Source      1502           333  3.117222e+06\n",
              "14                   Team Fortress 2      1364           197  7.180788e+05"
            ]
          },
          "execution_count": 18,
          "metadata": {},
          "output_type": "execute_result"
        }
      ],
      "source": [
        "players = esports.groupby('GameName')['PlayerNo'].sum().sort_values(ascending=False).head(15)\n",
        "players = pd.DataFrame(players).reset_index()\n",
        "\n",
        "\n",
        "tournaments = esports.groupby('GameName')['TournamentNo'].sum()\n",
        "tournaments = pd.DataFrame(tournaments).reset_index()\n",
        "\n",
        "\n",
        "money = esports.groupby('GameName')['TotalMoney'].sum()\n",
        "money = pd.DataFrame(money).reset_index()\n",
        "\n",
        "game = pd.merge(players, tournaments, on='GameName', how='inner')\n",
        "game = pd.merge(game, money, on='GameName', how='inner')\n",
        "game"
      ]
    },
    {
      "cell_type": "code",
      "execution_count": 21,
      "id": "06eec701",
      "metadata": {},
      "outputs": [
        {
          "data": {
            "application/vnd.plotly.v1+json": {
              "config": {
                "plotlyServerURL": "https://plot.ly"
              },
              "data": [
                {
                  "name": "Number of Players",
                  "text": "13,032",
                  "type": "bar",
                  "visible": true,
                  "x": [
                    "Number of Players"
                  ],
                  "y": [
                    13032
                  ]
                },
                {
                  "name": "Number of Tournaments",
                  "text": "5,252",
                  "type": "bar",
                  "visible": true,
                  "x": [
                    "Number of Tournaments"
                  ],
                  "y": [
                    5252
                  ]
                },
                {
                  "name": "Total Money",
                  "text": "$102,474,261",
                  "type": "bar",
                  "visible": true,
                  "x": [
                    "Total Money"
                  ],
                  "y": [
                    102474261.25
                  ]
                },
                {
                  "name": "Number of Players",
                  "text": "7,130",
                  "type": "bar",
                  "visible": false,
                  "x": [
                    "Number of Players"
                  ],
                  "y": [
                    7130
                  ]
                },
                {
                  "name": "Number of Tournaments",
                  "text": "2,477",
                  "type": "bar",
                  "visible": false,
                  "x": [
                    "Number of Tournaments"
                  ],
                  "y": [
                    2477
                  ]
                },
                {
                  "name": "Total Money",
                  "text": "$79,003,448",
                  "type": "bar",
                  "visible": false,
                  "x": [
                    "Total Money"
                  ],
                  "y": [
                    79003448.94
                  ]
                },
                {
                  "name": "Number of Players",
                  "text": "4,347",
                  "type": "bar",
                  "visible": false,
                  "x": [
                    "Number of Players"
                  ],
                  "y": [
                    4347
                  ]
                },
                {
                  "name": "Number of Tournaments",
                  "text": "660",
                  "type": "bar",
                  "visible": false,
                  "x": [
                    "Number of Tournaments"
                  ],
                  "y": [
                    660
                  ]
                },
                {
                  "name": "Total Money",
                  "text": "$97,508,425",
                  "type": "bar",
                  "visible": false,
                  "x": [
                    "Total Money"
                  ],
                  "y": [
                    97508425
                  ]
                },
                {
                  "name": "Number of Players",
                  "text": "4,137",
                  "type": "bar",
                  "visible": false,
                  "x": [
                    "Number of Players"
                  ],
                  "y": [
                    4137
                  ]
                },
                {
                  "name": "Number of Tournaments",
                  "text": "995",
                  "type": "bar",
                  "visible": false,
                  "x": [
                    "Number of Tournaments"
                  ],
                  "y": [
                    995
                  ]
                },
                {
                  "name": "Total Money",
                  "text": "$13,494,229",
                  "type": "bar",
                  "visible": false,
                  "x": [
                    "Total Money"
                  ],
                  "y": [
                    13494229.57
                  ]
                },
                {
                  "name": "Number of Players",
                  "text": "3,836",
                  "type": "bar",
                  "visible": false,
                  "x": [
                    "Number of Players"
                  ],
                  "y": [
                    3836
                  ]
                },
                {
                  "name": "Number of Tournaments",
                  "text": "1,434",
                  "type": "bar",
                  "visible": false,
                  "x": [
                    "Number of Tournaments"
                  ],
                  "y": [
                    1434
                  ]
                },
                {
                  "name": "Total Money",
                  "text": "$227,419,904",
                  "type": "bar",
                  "visible": false,
                  "x": [
                    "Total Money"
                  ],
                  "y": [
                    227419904.51
                  ]
                },
                {
                  "name": "Number of Players",
                  "text": "3,494",
                  "type": "bar",
                  "visible": false,
                  "x": [
                    "Number of Players"
                  ],
                  "y": [
                    3494
                  ]
                },
                {
                  "name": "Number of Tournaments",
                  "text": "743",
                  "type": "bar",
                  "visible": false,
                  "x": [
                    "Number of Tournaments"
                  ],
                  "y": [
                    743
                  ]
                },
                {
                  "name": "Total Money",
                  "text": "$26,049,333",
                  "type": "bar",
                  "visible": false,
                  "x": [
                    "Total Money"
                  ],
                  "y": [
                    26049333.28
                  ]
                },
                {
                  "name": "Number of Players",
                  "text": "2,754",
                  "type": "bar",
                  "visible": false,
                  "x": [
                    "Number of Players"
                  ],
                  "y": [
                    2754
                  ]
                },
                {
                  "name": "Number of Tournaments",
                  "text": "294",
                  "type": "bar",
                  "visible": false,
                  "x": [
                    "Number of Tournaments"
                  ],
                  "y": [
                    294
                  ]
                },
                {
                  "name": "Total Money",
                  "text": "$23,710,378",
                  "type": "bar",
                  "visible": false,
                  "x": [
                    "Total Money"
                  ],
                  "y": [
                    23710378.57
                  ]
                },
                {
                  "name": "Number of Players",
                  "text": "2,423",
                  "type": "bar",
                  "visible": false,
                  "x": [
                    "Number of Players"
                  ],
                  "y": [
                    2423
                  ]
                },
                {
                  "name": "Number of Tournaments",
                  "text": "898",
                  "type": "bar",
                  "visible": false,
                  "x": [
                    "Number of Tournaments"
                  ],
                  "y": [
                    898
                  ]
                },
                {
                  "name": "Total Money",
                  "text": "$23,098,378",
                  "type": "bar",
                  "visible": false,
                  "x": [
                    "Total Money"
                  ],
                  "y": [
                    23098378.24
                  ]
                },
                {
                  "name": "Number of Players",
                  "text": "2,078",
                  "type": "bar",
                  "visible": false,
                  "x": [
                    "Number of Players"
                  ],
                  "y": [
                    2078
                  ]
                },
                {
                  "name": "Number of Tournaments",
                  "text": "5,909",
                  "type": "bar",
                  "visible": false,
                  "x": [
                    "Number of Tournaments"
                  ],
                  "y": [
                    5909
                  ]
                },
                {
                  "name": "Total Money",
                  "text": "$33,914,062",
                  "type": "bar",
                  "visible": false,
                  "x": [
                    "Total Money"
                  ],
                  "y": [
                    33914062.96
                  ]
                },
                {
                  "name": "Number of Players",
                  "text": "1,879",
                  "type": "bar",
                  "visible": false,
                  "x": [
                    "Number of Players"
                  ],
                  "y": [
                    1879
                  ]
                },
                {
                  "name": "Number of Tournaments",
                  "text": "1,197",
                  "type": "bar",
                  "visible": false,
                  "x": [
                    "Number of Tournaments"
                  ],
                  "y": [
                    1197
                  ]
                },
                {
                  "name": "Total Money",
                  "text": "$1,311,867",
                  "type": "bar",
                  "visible": false,
                  "x": [
                    "Total Money"
                  ],
                  "y": [
                    1311867.69
                  ]
                },
                {
                  "name": "Number of Players",
                  "text": "1,878",
                  "type": "bar",
                  "visible": false,
                  "x": [
                    "Number of Players"
                  ],
                  "y": [
                    1878
                  ]
                },
                {
                  "name": "Number of Tournaments",
                  "text": "2,608",
                  "type": "bar",
                  "visible": false,
                  "x": [
                    "Number of Tournaments"
                  ],
                  "y": [
                    2608
                  ]
                },
                {
                  "name": "Total Money",
                  "text": "$3,210,134",
                  "type": "bar",
                  "visible": false,
                  "x": [
                    "Total Money"
                  ],
                  "y": [
                    3210134.19
                  ]
                },
                {
                  "name": "Number of Players",
                  "text": "1,662",
                  "type": "bar",
                  "visible": false,
                  "x": [
                    "Number of Players"
                  ],
                  "y": [
                    1662
                  ]
                },
                {
                  "name": "Number of Tournaments",
                  "text": "247",
                  "type": "bar",
                  "visible": false,
                  "x": [
                    "Number of Tournaments"
                  ],
                  "y": [
                    247
                  ]
                },
                {
                  "name": "Total Money",
                  "text": "$1,272,788",
                  "type": "bar",
                  "visible": false,
                  "x": [
                    "Total Money"
                  ],
                  "y": [
                    1272788.03
                  ]
                },
                {
                  "name": "Number of Players",
                  "text": "1,552",
                  "type": "bar",
                  "visible": false,
                  "x": [
                    "Number of Players"
                  ],
                  "y": [
                    1552
                  ]
                },
                {
                  "name": "Number of Tournaments",
                  "text": "228",
                  "type": "bar",
                  "visible": false,
                  "x": [
                    "Number of Tournaments"
                  ],
                  "y": [
                    228
                  ]
                },
                {
                  "name": "Total Money",
                  "text": "$12,214,525",
                  "type": "bar",
                  "visible": false,
                  "x": [
                    "Total Money"
                  ],
                  "y": [
                    12214525.74
                  ]
                },
                {
                  "name": "Number of Players",
                  "text": "1,502",
                  "type": "bar",
                  "visible": false,
                  "x": [
                    "Number of Players"
                  ],
                  "y": [
                    1502
                  ]
                },
                {
                  "name": "Number of Tournaments",
                  "text": "333",
                  "type": "bar",
                  "visible": false,
                  "x": [
                    "Number of Tournaments"
                  ],
                  "y": [
                    333
                  ]
                },
                {
                  "name": "Total Money",
                  "text": "$3,117,222",
                  "type": "bar",
                  "visible": false,
                  "x": [
                    "Total Money"
                  ],
                  "y": [
                    3117222.29
                  ]
                },
                {
                  "name": "Number of Players",
                  "text": "1,364",
                  "type": "bar",
                  "visible": false,
                  "x": [
                    "Number of Players"
                  ],
                  "y": [
                    1364
                  ]
                },
                {
                  "name": "Number of Tournaments",
                  "text": "197",
                  "type": "bar",
                  "visible": false,
                  "x": [
                    "Number of Tournaments"
                  ],
                  "y": [
                    197
                  ]
                },
                {
                  "name": "Total Money",
                  "text": "$718,078",
                  "type": "bar",
                  "visible": false,
                  "x": [
                    "Total Money"
                  ],
                  "y": [
                    718078.81
                  ]
                }
              ],
              "layout": {
                "template": {
                  "data": {
                    "bar": [
                      {
                        "error_x": {
                          "color": "#2a3f5f"
                        },
                        "error_y": {
                          "color": "#2a3f5f"
                        },
                        "marker": {
                          "line": {
                            "color": "#E5ECF6",
                            "width": 0.5
                          },
                          "pattern": {
                            "fillmode": "overlay",
                            "size": 10,
                            "solidity": 0.2
                          }
                        },
                        "type": "bar"
                      }
                    ],
                    "barpolar": [
                      {
                        "marker": {
                          "line": {
                            "color": "#E5ECF6",
                            "width": 0.5
                          },
                          "pattern": {
                            "fillmode": "overlay",
                            "size": 10,
                            "solidity": 0.2
                          }
                        },
                        "type": "barpolar"
                      }
                    ],
                    "carpet": [
                      {
                        "aaxis": {
                          "endlinecolor": "#2a3f5f",
                          "gridcolor": "white",
                          "linecolor": "white",
                          "minorgridcolor": "white",
                          "startlinecolor": "#2a3f5f"
                        },
                        "baxis": {
                          "endlinecolor": "#2a3f5f",
                          "gridcolor": "white",
                          "linecolor": "white",
                          "minorgridcolor": "white",
                          "startlinecolor": "#2a3f5f"
                        },
                        "type": "carpet"
                      }
                    ],
                    "choropleth": [
                      {
                        "colorbar": {
                          "outlinewidth": 0,
                          "ticks": ""
                        },
                        "type": "choropleth"
                      }
                    ],
                    "contour": [
                      {
                        "colorbar": {
                          "outlinewidth": 0,
                          "ticks": ""
                        },
                        "colorscale": [
                          [
                            0,
                            "#0d0887"
                          ],
                          [
                            0.1111111111111111,
                            "#46039f"
                          ],
                          [
                            0.2222222222222222,
                            "#7201a8"
                          ],
                          [
                            0.3333333333333333,
                            "#9c179e"
                          ],
                          [
                            0.4444444444444444,
                            "#bd3786"
                          ],
                          [
                            0.5555555555555556,
                            "#d8576b"
                          ],
                          [
                            0.6666666666666666,
                            "#ed7953"
                          ],
                          [
                            0.7777777777777778,
                            "#fb9f3a"
                          ],
                          [
                            0.8888888888888888,
                            "#fdca26"
                          ],
                          [
                            1,
                            "#f0f921"
                          ]
                        ],
                        "type": "contour"
                      }
                    ],
                    "contourcarpet": [
                      {
                        "colorbar": {
                          "outlinewidth": 0,
                          "ticks": ""
                        },
                        "type": "contourcarpet"
                      }
                    ],
                    "heatmap": [
                      {
                        "colorbar": {
                          "outlinewidth": 0,
                          "ticks": ""
                        },
                        "colorscale": [
                          [
                            0,
                            "#0d0887"
                          ],
                          [
                            0.1111111111111111,
                            "#46039f"
                          ],
                          [
                            0.2222222222222222,
                            "#7201a8"
                          ],
                          [
                            0.3333333333333333,
                            "#9c179e"
                          ],
                          [
                            0.4444444444444444,
                            "#bd3786"
                          ],
                          [
                            0.5555555555555556,
                            "#d8576b"
                          ],
                          [
                            0.6666666666666666,
                            "#ed7953"
                          ],
                          [
                            0.7777777777777778,
                            "#fb9f3a"
                          ],
                          [
                            0.8888888888888888,
                            "#fdca26"
                          ],
                          [
                            1,
                            "#f0f921"
                          ]
                        ],
                        "type": "heatmap"
                      }
                    ],
                    "heatmapgl": [
                      {
                        "colorbar": {
                          "outlinewidth": 0,
                          "ticks": ""
                        },
                        "colorscale": [
                          [
                            0,
                            "#0d0887"
                          ],
                          [
                            0.1111111111111111,
                            "#46039f"
                          ],
                          [
                            0.2222222222222222,
                            "#7201a8"
                          ],
                          [
                            0.3333333333333333,
                            "#9c179e"
                          ],
                          [
                            0.4444444444444444,
                            "#bd3786"
                          ],
                          [
                            0.5555555555555556,
                            "#d8576b"
                          ],
                          [
                            0.6666666666666666,
                            "#ed7953"
                          ],
                          [
                            0.7777777777777778,
                            "#fb9f3a"
                          ],
                          [
                            0.8888888888888888,
                            "#fdca26"
                          ],
                          [
                            1,
                            "#f0f921"
                          ]
                        ],
                        "type": "heatmapgl"
                      }
                    ],
                    "histogram": [
                      {
                        "marker": {
                          "pattern": {
                            "fillmode": "overlay",
                            "size": 10,
                            "solidity": 0.2
                          }
                        },
                        "type": "histogram"
                      }
                    ],
                    "histogram2d": [
                      {
                        "colorbar": {
                          "outlinewidth": 0,
                          "ticks": ""
                        },
                        "colorscale": [
                          [
                            0,
                            "#0d0887"
                          ],
                          [
                            0.1111111111111111,
                            "#46039f"
                          ],
                          [
                            0.2222222222222222,
                            "#7201a8"
                          ],
                          [
                            0.3333333333333333,
                            "#9c179e"
                          ],
                          [
                            0.4444444444444444,
                            "#bd3786"
                          ],
                          [
                            0.5555555555555556,
                            "#d8576b"
                          ],
                          [
                            0.6666666666666666,
                            "#ed7953"
                          ],
                          [
                            0.7777777777777778,
                            "#fb9f3a"
                          ],
                          [
                            0.8888888888888888,
                            "#fdca26"
                          ],
                          [
                            1,
                            "#f0f921"
                          ]
                        ],
                        "type": "histogram2d"
                      }
                    ],
                    "histogram2dcontour": [
                      {
                        "colorbar": {
                          "outlinewidth": 0,
                          "ticks": ""
                        },
                        "colorscale": [
                          [
                            0,
                            "#0d0887"
                          ],
                          [
                            0.1111111111111111,
                            "#46039f"
                          ],
                          [
                            0.2222222222222222,
                            "#7201a8"
                          ],
                          [
                            0.3333333333333333,
                            "#9c179e"
                          ],
                          [
                            0.4444444444444444,
                            "#bd3786"
                          ],
                          [
                            0.5555555555555556,
                            "#d8576b"
                          ],
                          [
                            0.6666666666666666,
                            "#ed7953"
                          ],
                          [
                            0.7777777777777778,
                            "#fb9f3a"
                          ],
                          [
                            0.8888888888888888,
                            "#fdca26"
                          ],
                          [
                            1,
                            "#f0f921"
                          ]
                        ],
                        "type": "histogram2dcontour"
                      }
                    ],
                    "mesh3d": [
                      {
                        "colorbar": {
                          "outlinewidth": 0,
                          "ticks": ""
                        },
                        "type": "mesh3d"
                      }
                    ],
                    "parcoords": [
                      {
                        "line": {
                          "colorbar": {
                            "outlinewidth": 0,
                            "ticks": ""
                          }
                        },
                        "type": "parcoords"
                      }
                    ],
                    "pie": [
                      {
                        "automargin": true,
                        "type": "pie"
                      }
                    ],
                    "scatter": [
                      {
                        "fillpattern": {
                          "fillmode": "overlay",
                          "size": 10,
                          "solidity": 0.2
                        },
                        "type": "scatter"
                      }
                    ],
                    "scatter3d": [
                      {
                        "line": {
                          "colorbar": {
                            "outlinewidth": 0,
                            "ticks": ""
                          }
                        },
                        "marker": {
                          "colorbar": {
                            "outlinewidth": 0,
                            "ticks": ""
                          }
                        },
                        "type": "scatter3d"
                      }
                    ],
                    "scattercarpet": [
                      {
                        "marker": {
                          "colorbar": {
                            "outlinewidth": 0,
                            "ticks": ""
                          }
                        },
                        "type": "scattercarpet"
                      }
                    ],
                    "scattergeo": [
                      {
                        "marker": {
                          "colorbar": {
                            "outlinewidth": 0,
                            "ticks": ""
                          }
                        },
                        "type": "scattergeo"
                      }
                    ],
                    "scattergl": [
                      {
                        "marker": {
                          "colorbar": {
                            "outlinewidth": 0,
                            "ticks": ""
                          }
                        },
                        "type": "scattergl"
                      }
                    ],
                    "scattermapbox": [
                      {
                        "marker": {
                          "colorbar": {
                            "outlinewidth": 0,
                            "ticks": ""
                          }
                        },
                        "type": "scattermapbox"
                      }
                    ],
                    "scatterpolar": [
                      {
                        "marker": {
                          "colorbar": {
                            "outlinewidth": 0,
                            "ticks": ""
                          }
                        },
                        "type": "scatterpolar"
                      }
                    ],
                    "scatterpolargl": [
                      {
                        "marker": {
                          "colorbar": {
                            "outlinewidth": 0,
                            "ticks": ""
                          }
                        },
                        "type": "scatterpolargl"
                      }
                    ],
                    "scatterternary": [
                      {
                        "marker": {
                          "colorbar": {
                            "outlinewidth": 0,
                            "ticks": ""
                          }
                        },
                        "type": "scatterternary"
                      }
                    ],
                    "surface": [
                      {
                        "colorbar": {
                          "outlinewidth": 0,
                          "ticks": ""
                        },
                        "colorscale": [
                          [
                            0,
                            "#0d0887"
                          ],
                          [
                            0.1111111111111111,
                            "#46039f"
                          ],
                          [
                            0.2222222222222222,
                            "#7201a8"
                          ],
                          [
                            0.3333333333333333,
                            "#9c179e"
                          ],
                          [
                            0.4444444444444444,
                            "#bd3786"
                          ],
                          [
                            0.5555555555555556,
                            "#d8576b"
                          ],
                          [
                            0.6666666666666666,
                            "#ed7953"
                          ],
                          [
                            0.7777777777777778,
                            "#fb9f3a"
                          ],
                          [
                            0.8888888888888888,
                            "#fdca26"
                          ],
                          [
                            1,
                            "#f0f921"
                          ]
                        ],
                        "type": "surface"
                      }
                    ],
                    "table": [
                      {
                        "cells": {
                          "fill": {
                            "color": "#EBF0F8"
                          },
                          "line": {
                            "color": "white"
                          }
                        },
                        "header": {
                          "fill": {
                            "color": "#C8D4E3"
                          },
                          "line": {
                            "color": "white"
                          }
                        },
                        "type": "table"
                      }
                    ]
                  },
                  "layout": {
                    "annotationdefaults": {
                      "arrowcolor": "#2a3f5f",
                      "arrowhead": 0,
                      "arrowwidth": 1
                    },
                    "autotypenumbers": "strict",
                    "coloraxis": {
                      "colorbar": {
                        "outlinewidth": 0,
                        "ticks": ""
                      }
                    },
                    "colorscale": {
                      "diverging": [
                        [
                          0,
                          "#8e0152"
                        ],
                        [
                          0.1,
                          "#c51b7d"
                        ],
                        [
                          0.2,
                          "#de77ae"
                        ],
                        [
                          0.3,
                          "#f1b6da"
                        ],
                        [
                          0.4,
                          "#fde0ef"
                        ],
                        [
                          0.5,
                          "#f7f7f7"
                        ],
                        [
                          0.6,
                          "#e6f5d0"
                        ],
                        [
                          0.7,
                          "#b8e186"
                        ],
                        [
                          0.8,
                          "#7fbc41"
                        ],
                        [
                          0.9,
                          "#4d9221"
                        ],
                        [
                          1,
                          "#276419"
                        ]
                      ],
                      "sequential": [
                        [
                          0,
                          "#0d0887"
                        ],
                        [
                          0.1111111111111111,
                          "#46039f"
                        ],
                        [
                          0.2222222222222222,
                          "#7201a8"
                        ],
                        [
                          0.3333333333333333,
                          "#9c179e"
                        ],
                        [
                          0.4444444444444444,
                          "#bd3786"
                        ],
                        [
                          0.5555555555555556,
                          "#d8576b"
                        ],
                        [
                          0.6666666666666666,
                          "#ed7953"
                        ],
                        [
                          0.7777777777777778,
                          "#fb9f3a"
                        ],
                        [
                          0.8888888888888888,
                          "#fdca26"
                        ],
                        [
                          1,
                          "#f0f921"
                        ]
                      ],
                      "sequentialminus": [
                        [
                          0,
                          "#0d0887"
                        ],
                        [
                          0.1111111111111111,
                          "#46039f"
                        ],
                        [
                          0.2222222222222222,
                          "#7201a8"
                        ],
                        [
                          0.3333333333333333,
                          "#9c179e"
                        ],
                        [
                          0.4444444444444444,
                          "#bd3786"
                        ],
                        [
                          0.5555555555555556,
                          "#d8576b"
                        ],
                        [
                          0.6666666666666666,
                          "#ed7953"
                        ],
                        [
                          0.7777777777777778,
                          "#fb9f3a"
                        ],
                        [
                          0.8888888888888888,
                          "#fdca26"
                        ],
                        [
                          1,
                          "#f0f921"
                        ]
                      ]
                    },
                    "colorway": [
                      "#636efa",
                      "#EF553B",
                      "#00cc96",
                      "#ab63fa",
                      "#FFA15A",
                      "#19d3f3",
                      "#FF6692",
                      "#B6E880",
                      "#FF97FF",
                      "#FECB52"
                    ],
                    "font": {
                      "color": "#2a3f5f"
                    },
                    "geo": {
                      "bgcolor": "white",
                      "lakecolor": "white",
                      "landcolor": "#E5ECF6",
                      "showlakes": true,
                      "showland": true,
                      "subunitcolor": "white"
                    },
                    "hoverlabel": {
                      "align": "left"
                    },
                    "hovermode": "closest",
                    "mapbox": {
                      "style": "light"
                    },
                    "paper_bgcolor": "white",
                    "plot_bgcolor": "#E5ECF6",
                    "polar": {
                      "angularaxis": {
                        "gridcolor": "white",
                        "linecolor": "white",
                        "ticks": ""
                      },
                      "bgcolor": "#E5ECF6",
                      "radialaxis": {
                        "gridcolor": "white",
                        "linecolor": "white",
                        "ticks": ""
                      }
                    },
                    "scene": {
                      "xaxis": {
                        "backgroundcolor": "#E5ECF6",
                        "gridcolor": "white",
                        "gridwidth": 2,
                        "linecolor": "white",
                        "showbackground": true,
                        "ticks": "",
                        "zerolinecolor": "white"
                      },
                      "yaxis": {
                        "backgroundcolor": "#E5ECF6",
                        "gridcolor": "white",
                        "gridwidth": 2,
                        "linecolor": "white",
                        "showbackground": true,
                        "ticks": "",
                        "zerolinecolor": "white"
                      },
                      "zaxis": {
                        "backgroundcolor": "#E5ECF6",
                        "gridcolor": "white",
                        "gridwidth": 2,
                        "linecolor": "white",
                        "showbackground": true,
                        "ticks": "",
                        "zerolinecolor": "white"
                      }
                    },
                    "shapedefaults": {
                      "line": {
                        "color": "#2a3f5f"
                      }
                    },
                    "ternary": {
                      "aaxis": {
                        "gridcolor": "white",
                        "linecolor": "white",
                        "ticks": ""
                      },
                      "baxis": {
                        "gridcolor": "white",
                        "linecolor": "white",
                        "ticks": ""
                      },
                      "bgcolor": "#E5ECF6",
                      "caxis": {
                        "gridcolor": "white",
                        "linecolor": "white",
                        "ticks": ""
                      }
                    },
                    "title": {
                      "x": 0.05
                    },
                    "xaxis": {
                      "automargin": true,
                      "gridcolor": "white",
                      "linecolor": "white",
                      "ticks": "",
                      "title": {
                        "standoff": 15
                      },
                      "zerolinecolor": "white",
                      "zerolinewidth": 2
                    },
                    "yaxis": {
                      "automargin": true,
                      "gridcolor": "white",
                      "linecolor": "white",
                      "ticks": "",
                      "title": {
                        "standoff": 15
                      },
                      "zerolinecolor": "white",
                      "zerolinewidth": 2
                    }
                  }
                },
                "title": {
                  "text": "Data summarization until 2020 for game Counter-Strike: Global Offensive"
                },
                "updatemenus": [
                  {
                    "buttons": [
                      {
                        "args": [
                          {
                            "visible": [
                              true,
                              true,
                              true,
                              false,
                              false,
                              false,
                              false,
                              false,
                              false,
                              false,
                              false,
                              false,
                              false,
                              false,
                              false,
                              false,
                              false,
                              false,
                              false,
                              false,
                              false,
                              false,
                              false,
                              false,
                              false,
                              false,
                              false,
                              false,
                              false,
                              false,
                              false,
                              false,
                              false,
                              false,
                              false,
                              false,
                              false,
                              false,
                              false,
                              false,
                              false,
                              false,
                              false,
                              false,
                              false
                            ]
                          },
                          {
                            "title": "Data summarization until 2020 for game Counter-Strike: Global Offensive"
                          }
                        ],
                        "label": "Counter-Strike: Global Offensive",
                        "method": "update"
                      },
                      {
                        "args": [
                          {
                            "visible": [
                              false,
                              false,
                              false,
                              true,
                              true,
                              true,
                              false,
                              false,
                              false,
                              false,
                              false,
                              false,
                              false,
                              false,
                              false,
                              false,
                              false,
                              false,
                              false,
                              false,
                              false,
                              false,
                              false,
                              false,
                              false,
                              false,
                              false,
                              false,
                              false,
                              false,
                              false,
                              false,
                              false,
                              false,
                              false,
                              false,
                              false,
                              false,
                              false,
                              false,
                              false,
                              false,
                              false,
                              false,
                              false
                            ]
                          },
                          {
                            "title": "Data summarization until 2020 for game League of Legends"
                          }
                        ],
                        "label": "League of Legends",
                        "method": "update"
                      },
                      {
                        "args": [
                          {
                            "visible": [
                              false,
                              false,
                              false,
                              false,
                              false,
                              false,
                              true,
                              true,
                              true,
                              false,
                              false,
                              false,
                              false,
                              false,
                              false,
                              false,
                              false,
                              false,
                              false,
                              false,
                              false,
                              false,
                              false,
                              false,
                              false,
                              false,
                              false,
                              false,
                              false,
                              false,
                              false,
                              false,
                              false,
                              false,
                              false,
                              false,
                              false,
                              false,
                              false,
                              false,
                              false,
                              false,
                              false,
                              false,
                              false
                            ]
                          },
                          {
                            "title": "Data summarization until 2020 for game Fortnite"
                          }
                        ],
                        "label": "Fortnite",
                        "method": "update"
                      },
                      {
                        "args": [
                          {
                            "visible": [
                              false,
                              false,
                              false,
                              false,
                              false,
                              false,
                              false,
                              false,
                              false,
                              true,
                              true,
                              true,
                              false,
                              false,
                              false,
                              false,
                              false,
                              false,
                              false,
                              false,
                              false,
                              false,
                              false,
                              false,
                              false,
                              false,
                              false,
                              false,
                              false,
                              false,
                              false,
                              false,
                              false,
                              false,
                              false,
                              false,
                              false,
                              false,
                              false,
                              false,
                              false,
                              false,
                              false,
                              false,
                              false
                            ]
                          },
                          {
                            "title": "Data summarization until 2020 for game Counter-Strike"
                          }
                        ],
                        "label": "Counter-Strike",
                        "method": "update"
                      },
                      {
                        "args": [
                          {
                            "visible": [
                              false,
                              false,
                              false,
                              false,
                              false,
                              false,
                              false,
                              false,
                              false,
                              false,
                              false,
                              false,
                              true,
                              true,
                              true,
                              false,
                              false,
                              false,
                              false,
                              false,
                              false,
                              false,
                              false,
                              false,
                              false,
                              false,
                              false,
                              false,
                              false,
                              false,
                              false,
                              false,
                              false,
                              false,
                              false,
                              false,
                              false,
                              false,
                              false,
                              false,
                              false,
                              false,
                              false,
                              false,
                              false
                            ]
                          },
                          {
                            "title": "Data summarization until 2020 for game Dota 2"
                          }
                        ],
                        "label": "Dota 2",
                        "method": "update"
                      },
                      {
                        "args": [
                          {
                            "visible": [
                              false,
                              false,
                              false,
                              false,
                              false,
                              false,
                              false,
                              false,
                              false,
                              false,
                              false,
                              false,
                              false,
                              false,
                              false,
                              true,
                              true,
                              true,
                              false,
                              false,
                              false,
                              false,
                              false,
                              false,
                              false,
                              false,
                              false,
                              false,
                              false,
                              false,
                              false,
                              false,
                              false,
                              false,
                              false,
                              false,
                              false,
                              false,
                              false,
                              false,
                              false,
                              false,
                              false,
                              false,
                              false
                            ]
                          },
                          {
                            "title": "Data summarization until 2020 for game Overwatch"
                          }
                        ],
                        "label": "Overwatch",
                        "method": "update"
                      },
                      {
                        "args": [
                          {
                            "visible": [
                              false,
                              false,
                              false,
                              false,
                              false,
                              false,
                              false,
                              false,
                              false,
                              false,
                              false,
                              false,
                              false,
                              false,
                              false,
                              false,
                              false,
                              false,
                              true,
                              true,
                              true,
                              false,
                              false,
                              false,
                              false,
                              false,
                              false,
                              false,
                              false,
                              false,
                              false,
                              false,
                              false,
                              false,
                              false,
                              false,
                              false,
                              false,
                              false,
                              false,
                              false,
                              false,
                              false,
                              false,
                              false
                            ]
                          },
                          {
                            "title": "Data summarization until 2020 for game PLAYERUNKNOWN'S BATTLEGROUNDS"
                          }
                        ],
                        "label": "PLAYERUNKNOWN'S BATTLEGROUNDS",
                        "method": "update"
                      },
                      {
                        "args": [
                          {
                            "visible": [
                              false,
                              false,
                              false,
                              false,
                              false,
                              false,
                              false,
                              false,
                              false,
                              false,
                              false,
                              false,
                              false,
                              false,
                              false,
                              false,
                              false,
                              false,
                              false,
                              false,
                              false,
                              true,
                              true,
                              true,
                              false,
                              false,
                              false,
                              false,
                              false,
                              false,
                              false,
                              false,
                              false,
                              false,
                              false,
                              false,
                              false,
                              false,
                              false,
                              false,
                              false,
                              false,
                              false,
                              false,
                              false
                            ]
                          },
                          {
                            "title": "Data summarization until 2020 for game Hearthstone"
                          }
                        ],
                        "label": "Hearthstone",
                        "method": "update"
                      },
                      {
                        "args": [
                          {
                            "visible": [
                              false,
                              false,
                              false,
                              false,
                              false,
                              false,
                              false,
                              false,
                              false,
                              false,
                              false,
                              false,
                              false,
                              false,
                              false,
                              false,
                              false,
                              false,
                              false,
                              false,
                              false,
                              false,
                              false,
                              false,
                              true,
                              true,
                              true,
                              false,
                              false,
                              false,
                              false,
                              false,
                              false,
                              false,
                              false,
                              false,
                              false,
                              false,
                              false,
                              false,
                              false,
                              false,
                              false,
                              false,
                              false
                            ]
                          },
                          {
                            "title": "Data summarization until 2020 for game StarCraft II"
                          }
                        ],
                        "label": "StarCraft II",
                        "method": "update"
                      },
                      {
                        "args": [
                          {
                            "visible": [
                              false,
                              false,
                              false,
                              false,
                              false,
                              false,
                              false,
                              false,
                              false,
                              false,
                              false,
                              false,
                              false,
                              false,
                              false,
                              false,
                              false,
                              false,
                              false,
                              false,
                              false,
                              false,
                              false,
                              false,
                              false,
                              false,
                              false,
                              true,
                              true,
                              true,
                              false,
                              false,
                              false,
                              false,
                              false,
                              false,
                              false,
                              false,
                              false,
                              false,
                              false,
                              false,
                              false,
                              false,
                              false
                            ]
                          },
                          {
                            "title": "Data summarization until 2020 for game Super Smash Bros. Ultimate"
                          }
                        ],
                        "label": "Super Smash Bros. Ultimate",
                        "method": "update"
                      },
                      {
                        "args": [
                          {
                            "visible": [
                              false,
                              false,
                              false,
                              false,
                              false,
                              false,
                              false,
                              false,
                              false,
                              false,
                              false,
                              false,
                              false,
                              false,
                              false,
                              false,
                              false,
                              false,
                              false,
                              false,
                              false,
                              false,
                              false,
                              false,
                              false,
                              false,
                              false,
                              false,
                              false,
                              false,
                              true,
                              true,
                              true,
                              false,
                              false,
                              false,
                              false,
                              false,
                              false,
                              false,
                              false,
                              false,
                              false,
                              false,
                              false
                            ]
                          },
                          {
                            "title": "Data summarization until 2020 for game Super Smash Bros. Melee"
                          }
                        ],
                        "label": "Super Smash Bros. Melee",
                        "method": "update"
                      },
                      {
                        "args": [
                          {
                            "visible": [
                              false,
                              false,
                              false,
                              false,
                              false,
                              false,
                              false,
                              false,
                              false,
                              false,
                              false,
                              false,
                              false,
                              false,
                              false,
                              false,
                              false,
                              false,
                              false,
                              false,
                              false,
                              false,
                              false,
                              false,
                              false,
                              false,
                              false,
                              false,
                              false,
                              false,
                              false,
                              false,
                              false,
                              true,
                              true,
                              true,
                              false,
                              false,
                              false,
                              false,
                              false,
                              false,
                              false,
                              false,
                              false
                            ]
                          },
                          {
                            "title": "Data summarization until 2020 for game VALORANT"
                          }
                        ],
                        "label": "VALORANT",
                        "method": "update"
                      },
                      {
                        "args": [
                          {
                            "visible": [
                              false,
                              false,
                              false,
                              false,
                              false,
                              false,
                              false,
                              false,
                              false,
                              false,
                              false,
                              false,
                              false,
                              false,
                              false,
                              false,
                              false,
                              false,
                              false,
                              false,
                              false,
                              false,
                              false,
                              false,
                              false,
                              false,
                              false,
                              false,
                              false,
                              false,
                              false,
                              false,
                              false,
                              false,
                              false,
                              false,
                              true,
                              true,
                              true,
                              false,
                              false,
                              false,
                              false,
                              false,
                              false
                            ]
                          },
                          {
                            "title": "Data summarization until 2020 for game Rainbow Six Siege"
                          }
                        ],
                        "label": "Rainbow Six Siege",
                        "method": "update"
                      },
                      {
                        "args": [
                          {
                            "visible": [
                              false,
                              false,
                              false,
                              false,
                              false,
                              false,
                              false,
                              false,
                              false,
                              false,
                              false,
                              false,
                              false,
                              false,
                              false,
                              false,
                              false,
                              false,
                              false,
                              false,
                              false,
                              false,
                              false,
                              false,
                              false,
                              false,
                              false,
                              false,
                              false,
                              false,
                              false,
                              false,
                              false,
                              false,
                              false,
                              false,
                              false,
                              false,
                              false,
                              true,
                              true,
                              true,
                              false,
                              false,
                              false
                            ]
                          },
                          {
                            "title": "Data summarization until 2020 for game Counter-Strike: Source"
                          }
                        ],
                        "label": "Counter-Strike: Source",
                        "method": "update"
                      },
                      {
                        "args": [
                          {
                            "visible": [
                              false,
                              false,
                              false,
                              false,
                              false,
                              false,
                              false,
                              false,
                              false,
                              false,
                              false,
                              false,
                              false,
                              false,
                              false,
                              false,
                              false,
                              false,
                              false,
                              false,
                              false,
                              false,
                              false,
                              false,
                              false,
                              false,
                              false,
                              false,
                              false,
                              false,
                              false,
                              false,
                              false,
                              false,
                              false,
                              false,
                              false,
                              false,
                              false,
                              false,
                              false,
                              false,
                              true,
                              true,
                              true
                            ]
                          },
                          {
                            "title": "Data summarization until 2020 for game Team Fortress 2"
                          }
                        ],
                        "label": "Team Fortress 2",
                        "method": "update"
                      }
                    ],
                    "direction": "down",
                    "showactive": true,
                    "x": 1.15,
                    "xanchor": "right",
                    "y": 1.15,
                    "yanchor": "top"
                  }
                ],
                "yaxis": {
                  "type": "log"
                }
              }
            }
          },
          "metadata": {},
          "output_type": "display_data"
        }
      ],
      "source": [
        "fig = go.Figure()\n",
        "\n",
        "for g in game['GameName'].unique():\n",
        "    game_data = game[game['GameName'] == g]\n",
        "\n",
        "    fig.add_trace(\n",
        "        go.Bar(x=['Number of Players'], y=game_data['PlayerNo'], name='Number of Players',\n",
        "               text=f\"{int(game_data['PlayerNo'].iloc[0]):,}\" ,\n",
        "               visible=(g==game['GameName'].unique()[0]))\n",
        "    )\n",
        "\n",
        "    fig.add_trace(\n",
        "        go.Bar(x=['Number of Tournaments'], y=game_data['TournamentNo'], \n",
        "               name='Number of Tournaments', \n",
        "               text=f\"{int(game_data['TournamentNo'].iloc[0]):,}\",\n",
        "               visible=(g==game['GameName'].unique()[0]))\n",
        "    )\n",
        "\n",
        "    fig.add_trace(\n",
        "        go.Bar(\n",
        "            x=['Total Money'], \n",
        "            y=game_data['TotalMoney'] , \n",
        "            name='Total Money', \n",
        "            visible=(g==game['GameName'].unique()[0]),\n",
        "            text=f\"${int(game_data['TotalMoney'].iloc[0]):,}\"\n",
        "    )\n",
        ")\n",
        "\n",
        "titles = {g: f\"Data summarization until 2020 for game {g}\" for g in game['GameName'].unique()}\n",
        "\n",
        "updatemenus = [{\n",
        "    'buttons': [\n",
        "        {\n",
        "            'method': 'update',\n",
        "            'label': g,\n",
        "            'args': [{'visible': [(g==game) for game in game['GameName'].unique() for _ in range(3)]},\n",
        "                     {'title': titles[g]}]\n",
        "        } for g in game['GameName'].unique()\n",
        "    ],\n",
        "    'direction': 'down',\n",
        "    'showactive': True,\n",
        "    'x': 1.15,\n",
        "    'xanchor': 'right',\n",
        "    'y': 1.15,\n",
        "    'yanchor': 'top'\n",
        "}]\n",
        "\n",
        "fig.update_layout(\n",
        "    updatemenus=updatemenus,\n",
        "    title=titles[game['GameName'].unique()[0]],\n",
        "    yaxis_type = 'log'\n",
        ")\n",
        "fig.write_html(\"../picture/each_game.html\")\n",
        "fig.show()"
      ]
    },
    {
      "cell_type": "markdown",
      "id": "970f92fd",
      "metadata": {},
      "source": [
        "### Behavior of different region in Esports \n",
        "\n",
        "Which country has the highest earnings in esports?\n"
      ]
    },
    {
      "cell_type": "code",
      "execution_count": 16,
      "id": "ccd031dc",
      "metadata": {},
      "outputs": [
        {
          "name": "stdout",
          "output_type": "stream",
          "text": [
            "The country with the highest earnings in E-Sports is: United States\n"
          ]
        }
      ],
      "source": [
        "country_earnings = esports.groupby('Top_Country')['Top_Country_Earnings'].sum().sort_values(ascending=False)\n",
        "print(\"The country with the highest earnings in E-Sports is:\", country_earnings.index[0])"
      ]
    },
    {
      "cell_type": "code",
      "execution_count": 17,
      "id": "d52c5317",
      "metadata": {},
      "outputs": [],
      "source": [
        "country_earnings = pd.DataFrame(country_earnings)\n",
        "country_earnings.reset_index(inplace=True)"
      ]
    },
    {
      "cell_type": "code",
      "execution_count": 18,
      "id": "b1d148df",
      "metadata": {},
      "outputs": [
        {
          "data": {
            "application/vnd.plotly.v1+json": {
              "config": {
                "plotlyServerURL": "https://plot.ly"
              },
              "data": [
                {
                  "coloraxis": "coloraxis",
                  "geo": "geo",
                  "hovertemplate": "<b>%{hovertext}</b><br><br>Top_Country=%{location}<br>Top_Country_Earnings=%{z}<extra></extra>",
                  "hovertext": [
                    "United States",
                    "Korea, Republic of",
                    "China",
                    "Denmark",
                    "Sweden",
                    "Japan",
                    "Russian Federation",
                    "Germany",
                    "United Kingdom",
                    "France",
                    "Saudi Arabia",
                    "Brazil",
                    "Thailand",
                    "Netherlands",
                    "Norway",
                    "Taiwan, Republic of China",
                    "Italy",
                    "Viet Nam",
                    "Canada",
                    "Czech Republic",
                    "Poland",
                    "Portugal",
                    "Finland",
                    "Estonia",
                    "Spain",
                    "Australia",
                    "Malaysia",
                    "Greece",
                    "Azerbaijan",
                    "Mexico",
                    "Singapore",
                    "Bulgaria"
                  ],
                  "locationmode": "country names",
                  "locations": [
                    "United States",
                    "Korea, Republic of",
                    "China",
                    "Denmark",
                    "Sweden",
                    "Japan",
                    "Russian Federation",
                    "Germany",
                    "United Kingdom",
                    "France",
                    "Saudi Arabia",
                    "Brazil",
                    "Thailand",
                    "Netherlands",
                    "Norway",
                    "Taiwan, Republic of China",
                    "Italy",
                    "Viet Nam",
                    "Canada",
                    "Czech Republic",
                    "Poland",
                    "Portugal",
                    "Finland",
                    "Estonia",
                    "Spain",
                    "Australia",
                    "Malaysia",
                    "Greece",
                    "Azerbaijan",
                    "Mexico",
                    "Singapore",
                    "Bulgaria"
                  ],
                  "name": "",
                  "type": "choropleth",
                  "z": [
                    107718584.08,
                    85408538.69,
                    78206834.56,
                    15400622.34,
                    4031022.09,
                    3747091.34,
                    1675031.6199999999,
                    1474729.1,
                    1461288.37,
                    624120.3,
                    538250,
                    371933.6,
                    355385.22,
                    346094.45,
                    330170.48,
                    302883.69,
                    265883.32,
                    123408.43,
                    97371.37,
                    68689.4,
                    65000,
                    64520.51,
                    56094.85,
                    49392.32,
                    46645,
                    35100,
                    20160,
                    17646.15,
                    16050.42,
                    13309.25,
                    13000,
                    500
                  ]
                }
              ],
              "layout": {
                "coloraxis": {
                  "colorbar": {
                    "title": {
                      "text": "Top Country Earnings ($)"
                    }
                  },
                  "colorscale": [
                    [
                      0,
                      "#0d0887"
                    ],
                    [
                      0.1111111111111111,
                      "#46039f"
                    ],
                    [
                      0.2222222222222222,
                      "#7201a8"
                    ],
                    [
                      0.3333333333333333,
                      "#9c179e"
                    ],
                    [
                      0.4444444444444444,
                      "#bd3786"
                    ],
                    [
                      0.5555555555555556,
                      "#d8576b"
                    ],
                    [
                      0.6666666666666666,
                      "#ed7953"
                    ],
                    [
                      0.7777777777777778,
                      "#fb9f3a"
                    ],
                    [
                      0.8888888888888888,
                      "#fdca26"
                    ],
                    [
                      1,
                      "#f0f921"
                    ]
                  ]
                },
                "geo": {
                  "center": {},
                  "domain": {
                    "x": [
                      0,
                      1
                    ],
                    "y": [
                      0,
                      1
                    ]
                  }
                },
                "legend": {
                  "tracegroupgap": 0
                },
                "margin": {
                  "t": 60
                },
                "template": {
                  "data": {
                    "bar": [
                      {
                        "error_x": {
                          "color": "#2a3f5f"
                        },
                        "error_y": {
                          "color": "#2a3f5f"
                        },
                        "marker": {
                          "line": {
                            "color": "#E5ECF6",
                            "width": 0.5
                          },
                          "pattern": {
                            "fillmode": "overlay",
                            "size": 10,
                            "solidity": 0.2
                          }
                        },
                        "type": "bar"
                      }
                    ],
                    "barpolar": [
                      {
                        "marker": {
                          "line": {
                            "color": "#E5ECF6",
                            "width": 0.5
                          },
                          "pattern": {
                            "fillmode": "overlay",
                            "size": 10,
                            "solidity": 0.2
                          }
                        },
                        "type": "barpolar"
                      }
                    ],
                    "carpet": [
                      {
                        "aaxis": {
                          "endlinecolor": "#2a3f5f",
                          "gridcolor": "white",
                          "linecolor": "white",
                          "minorgridcolor": "white",
                          "startlinecolor": "#2a3f5f"
                        },
                        "baxis": {
                          "endlinecolor": "#2a3f5f",
                          "gridcolor": "white",
                          "linecolor": "white",
                          "minorgridcolor": "white",
                          "startlinecolor": "#2a3f5f"
                        },
                        "type": "carpet"
                      }
                    ],
                    "choropleth": [
                      {
                        "colorbar": {
                          "outlinewidth": 0,
                          "ticks": ""
                        },
                        "type": "choropleth"
                      }
                    ],
                    "contour": [
                      {
                        "colorbar": {
                          "outlinewidth": 0,
                          "ticks": ""
                        },
                        "colorscale": [
                          [
                            0,
                            "#0d0887"
                          ],
                          [
                            0.1111111111111111,
                            "#46039f"
                          ],
                          [
                            0.2222222222222222,
                            "#7201a8"
                          ],
                          [
                            0.3333333333333333,
                            "#9c179e"
                          ],
                          [
                            0.4444444444444444,
                            "#bd3786"
                          ],
                          [
                            0.5555555555555556,
                            "#d8576b"
                          ],
                          [
                            0.6666666666666666,
                            "#ed7953"
                          ],
                          [
                            0.7777777777777778,
                            "#fb9f3a"
                          ],
                          [
                            0.8888888888888888,
                            "#fdca26"
                          ],
                          [
                            1,
                            "#f0f921"
                          ]
                        ],
                        "type": "contour"
                      }
                    ],
                    "contourcarpet": [
                      {
                        "colorbar": {
                          "outlinewidth": 0,
                          "ticks": ""
                        },
                        "type": "contourcarpet"
                      }
                    ],
                    "heatmap": [
                      {
                        "colorbar": {
                          "outlinewidth": 0,
                          "ticks": ""
                        },
                        "colorscale": [
                          [
                            0,
                            "#0d0887"
                          ],
                          [
                            0.1111111111111111,
                            "#46039f"
                          ],
                          [
                            0.2222222222222222,
                            "#7201a8"
                          ],
                          [
                            0.3333333333333333,
                            "#9c179e"
                          ],
                          [
                            0.4444444444444444,
                            "#bd3786"
                          ],
                          [
                            0.5555555555555556,
                            "#d8576b"
                          ],
                          [
                            0.6666666666666666,
                            "#ed7953"
                          ],
                          [
                            0.7777777777777778,
                            "#fb9f3a"
                          ],
                          [
                            0.8888888888888888,
                            "#fdca26"
                          ],
                          [
                            1,
                            "#f0f921"
                          ]
                        ],
                        "type": "heatmap"
                      }
                    ],
                    "heatmapgl": [
                      {
                        "colorbar": {
                          "outlinewidth": 0,
                          "ticks": ""
                        },
                        "colorscale": [
                          [
                            0,
                            "#0d0887"
                          ],
                          [
                            0.1111111111111111,
                            "#46039f"
                          ],
                          [
                            0.2222222222222222,
                            "#7201a8"
                          ],
                          [
                            0.3333333333333333,
                            "#9c179e"
                          ],
                          [
                            0.4444444444444444,
                            "#bd3786"
                          ],
                          [
                            0.5555555555555556,
                            "#d8576b"
                          ],
                          [
                            0.6666666666666666,
                            "#ed7953"
                          ],
                          [
                            0.7777777777777778,
                            "#fb9f3a"
                          ],
                          [
                            0.8888888888888888,
                            "#fdca26"
                          ],
                          [
                            1,
                            "#f0f921"
                          ]
                        ],
                        "type": "heatmapgl"
                      }
                    ],
                    "histogram": [
                      {
                        "marker": {
                          "pattern": {
                            "fillmode": "overlay",
                            "size": 10,
                            "solidity": 0.2
                          }
                        },
                        "type": "histogram"
                      }
                    ],
                    "histogram2d": [
                      {
                        "colorbar": {
                          "outlinewidth": 0,
                          "ticks": ""
                        },
                        "colorscale": [
                          [
                            0,
                            "#0d0887"
                          ],
                          [
                            0.1111111111111111,
                            "#46039f"
                          ],
                          [
                            0.2222222222222222,
                            "#7201a8"
                          ],
                          [
                            0.3333333333333333,
                            "#9c179e"
                          ],
                          [
                            0.4444444444444444,
                            "#bd3786"
                          ],
                          [
                            0.5555555555555556,
                            "#d8576b"
                          ],
                          [
                            0.6666666666666666,
                            "#ed7953"
                          ],
                          [
                            0.7777777777777778,
                            "#fb9f3a"
                          ],
                          [
                            0.8888888888888888,
                            "#fdca26"
                          ],
                          [
                            1,
                            "#f0f921"
                          ]
                        ],
                        "type": "histogram2d"
                      }
                    ],
                    "histogram2dcontour": [
                      {
                        "colorbar": {
                          "outlinewidth": 0,
                          "ticks": ""
                        },
                        "colorscale": [
                          [
                            0,
                            "#0d0887"
                          ],
                          [
                            0.1111111111111111,
                            "#46039f"
                          ],
                          [
                            0.2222222222222222,
                            "#7201a8"
                          ],
                          [
                            0.3333333333333333,
                            "#9c179e"
                          ],
                          [
                            0.4444444444444444,
                            "#bd3786"
                          ],
                          [
                            0.5555555555555556,
                            "#d8576b"
                          ],
                          [
                            0.6666666666666666,
                            "#ed7953"
                          ],
                          [
                            0.7777777777777778,
                            "#fb9f3a"
                          ],
                          [
                            0.8888888888888888,
                            "#fdca26"
                          ],
                          [
                            1,
                            "#f0f921"
                          ]
                        ],
                        "type": "histogram2dcontour"
                      }
                    ],
                    "mesh3d": [
                      {
                        "colorbar": {
                          "outlinewidth": 0,
                          "ticks": ""
                        },
                        "type": "mesh3d"
                      }
                    ],
                    "parcoords": [
                      {
                        "line": {
                          "colorbar": {
                            "outlinewidth": 0,
                            "ticks": ""
                          }
                        },
                        "type": "parcoords"
                      }
                    ],
                    "pie": [
                      {
                        "automargin": true,
                        "type": "pie"
                      }
                    ],
                    "scatter": [
                      {
                        "fillpattern": {
                          "fillmode": "overlay",
                          "size": 10,
                          "solidity": 0.2
                        },
                        "type": "scatter"
                      }
                    ],
                    "scatter3d": [
                      {
                        "line": {
                          "colorbar": {
                            "outlinewidth": 0,
                            "ticks": ""
                          }
                        },
                        "marker": {
                          "colorbar": {
                            "outlinewidth": 0,
                            "ticks": ""
                          }
                        },
                        "type": "scatter3d"
                      }
                    ],
                    "scattercarpet": [
                      {
                        "marker": {
                          "colorbar": {
                            "outlinewidth": 0,
                            "ticks": ""
                          }
                        },
                        "type": "scattercarpet"
                      }
                    ],
                    "scattergeo": [
                      {
                        "marker": {
                          "colorbar": {
                            "outlinewidth": 0,
                            "ticks": ""
                          }
                        },
                        "type": "scattergeo"
                      }
                    ],
                    "scattergl": [
                      {
                        "marker": {
                          "colorbar": {
                            "outlinewidth": 0,
                            "ticks": ""
                          }
                        },
                        "type": "scattergl"
                      }
                    ],
                    "scattermapbox": [
                      {
                        "marker": {
                          "colorbar": {
                            "outlinewidth": 0,
                            "ticks": ""
                          }
                        },
                        "type": "scattermapbox"
                      }
                    ],
                    "scatterpolar": [
                      {
                        "marker": {
                          "colorbar": {
                            "outlinewidth": 0,
                            "ticks": ""
                          }
                        },
                        "type": "scatterpolar"
                      }
                    ],
                    "scatterpolargl": [
                      {
                        "marker": {
                          "colorbar": {
                            "outlinewidth": 0,
                            "ticks": ""
                          }
                        },
                        "type": "scatterpolargl"
                      }
                    ],
                    "scatterternary": [
                      {
                        "marker": {
                          "colorbar": {
                            "outlinewidth": 0,
                            "ticks": ""
                          }
                        },
                        "type": "scatterternary"
                      }
                    ],
                    "surface": [
                      {
                        "colorbar": {
                          "outlinewidth": 0,
                          "ticks": ""
                        },
                        "colorscale": [
                          [
                            0,
                            "#0d0887"
                          ],
                          [
                            0.1111111111111111,
                            "#46039f"
                          ],
                          [
                            0.2222222222222222,
                            "#7201a8"
                          ],
                          [
                            0.3333333333333333,
                            "#9c179e"
                          ],
                          [
                            0.4444444444444444,
                            "#bd3786"
                          ],
                          [
                            0.5555555555555556,
                            "#d8576b"
                          ],
                          [
                            0.6666666666666666,
                            "#ed7953"
                          ],
                          [
                            0.7777777777777778,
                            "#fb9f3a"
                          ],
                          [
                            0.8888888888888888,
                            "#fdca26"
                          ],
                          [
                            1,
                            "#f0f921"
                          ]
                        ],
                        "type": "surface"
                      }
                    ],
                    "table": [
                      {
                        "cells": {
                          "fill": {
                            "color": "#EBF0F8"
                          },
                          "line": {
                            "color": "white"
                          }
                        },
                        "header": {
                          "fill": {
                            "color": "#C8D4E3"
                          },
                          "line": {
                            "color": "white"
                          }
                        },
                        "type": "table"
                      }
                    ]
                  },
                  "layout": {
                    "annotationdefaults": {
                      "arrowcolor": "#2a3f5f",
                      "arrowhead": 0,
                      "arrowwidth": 1
                    },
                    "autotypenumbers": "strict",
                    "coloraxis": {
                      "colorbar": {
                        "outlinewidth": 0,
                        "ticks": ""
                      }
                    },
                    "colorscale": {
                      "diverging": [
                        [
                          0,
                          "#8e0152"
                        ],
                        [
                          0.1,
                          "#c51b7d"
                        ],
                        [
                          0.2,
                          "#de77ae"
                        ],
                        [
                          0.3,
                          "#f1b6da"
                        ],
                        [
                          0.4,
                          "#fde0ef"
                        ],
                        [
                          0.5,
                          "#f7f7f7"
                        ],
                        [
                          0.6,
                          "#e6f5d0"
                        ],
                        [
                          0.7,
                          "#b8e186"
                        ],
                        [
                          0.8,
                          "#7fbc41"
                        ],
                        [
                          0.9,
                          "#4d9221"
                        ],
                        [
                          1,
                          "#276419"
                        ]
                      ],
                      "sequential": [
                        [
                          0,
                          "#0d0887"
                        ],
                        [
                          0.1111111111111111,
                          "#46039f"
                        ],
                        [
                          0.2222222222222222,
                          "#7201a8"
                        ],
                        [
                          0.3333333333333333,
                          "#9c179e"
                        ],
                        [
                          0.4444444444444444,
                          "#bd3786"
                        ],
                        [
                          0.5555555555555556,
                          "#d8576b"
                        ],
                        [
                          0.6666666666666666,
                          "#ed7953"
                        ],
                        [
                          0.7777777777777778,
                          "#fb9f3a"
                        ],
                        [
                          0.8888888888888888,
                          "#fdca26"
                        ],
                        [
                          1,
                          "#f0f921"
                        ]
                      ],
                      "sequentialminus": [
                        [
                          0,
                          "#0d0887"
                        ],
                        [
                          0.1111111111111111,
                          "#46039f"
                        ],
                        [
                          0.2222222222222222,
                          "#7201a8"
                        ],
                        [
                          0.3333333333333333,
                          "#9c179e"
                        ],
                        [
                          0.4444444444444444,
                          "#bd3786"
                        ],
                        [
                          0.5555555555555556,
                          "#d8576b"
                        ],
                        [
                          0.6666666666666666,
                          "#ed7953"
                        ],
                        [
                          0.7777777777777778,
                          "#fb9f3a"
                        ],
                        [
                          0.8888888888888888,
                          "#fdca26"
                        ],
                        [
                          1,
                          "#f0f921"
                        ]
                      ]
                    },
                    "colorway": [
                      "#636efa",
                      "#EF553B",
                      "#00cc96",
                      "#ab63fa",
                      "#FFA15A",
                      "#19d3f3",
                      "#FF6692",
                      "#B6E880",
                      "#FF97FF",
                      "#FECB52"
                    ],
                    "font": {
                      "color": "#2a3f5f"
                    },
                    "geo": {
                      "bgcolor": "white",
                      "lakecolor": "white",
                      "landcolor": "#E5ECF6",
                      "showlakes": true,
                      "showland": true,
                      "subunitcolor": "white"
                    },
                    "hoverlabel": {
                      "align": "left"
                    },
                    "hovermode": "closest",
                    "mapbox": {
                      "style": "light"
                    },
                    "paper_bgcolor": "white",
                    "plot_bgcolor": "#E5ECF6",
                    "polar": {
                      "angularaxis": {
                        "gridcolor": "white",
                        "linecolor": "white",
                        "ticks": ""
                      },
                      "bgcolor": "#E5ECF6",
                      "radialaxis": {
                        "gridcolor": "white",
                        "linecolor": "white",
                        "ticks": ""
                      }
                    },
                    "scene": {
                      "xaxis": {
                        "backgroundcolor": "#E5ECF6",
                        "gridcolor": "white",
                        "gridwidth": 2,
                        "linecolor": "white",
                        "showbackground": true,
                        "ticks": "",
                        "zerolinecolor": "white"
                      },
                      "yaxis": {
                        "backgroundcolor": "#E5ECF6",
                        "gridcolor": "white",
                        "gridwidth": 2,
                        "linecolor": "white",
                        "showbackground": true,
                        "ticks": "",
                        "zerolinecolor": "white"
                      },
                      "zaxis": {
                        "backgroundcolor": "#E5ECF6",
                        "gridcolor": "white",
                        "gridwidth": 2,
                        "linecolor": "white",
                        "showbackground": true,
                        "ticks": "",
                        "zerolinecolor": "white"
                      }
                    },
                    "shapedefaults": {
                      "line": {
                        "color": "#2a3f5f"
                      }
                    },
                    "ternary": {
                      "aaxis": {
                        "gridcolor": "white",
                        "linecolor": "white",
                        "ticks": ""
                      },
                      "baxis": {
                        "gridcolor": "white",
                        "linecolor": "white",
                        "ticks": ""
                      },
                      "bgcolor": "#E5ECF6",
                      "caxis": {
                        "gridcolor": "white",
                        "linecolor": "white",
                        "ticks": ""
                      }
                    },
                    "title": {
                      "x": 0.05
                    },
                    "xaxis": {
                      "automargin": true,
                      "gridcolor": "white",
                      "linecolor": "white",
                      "ticks": "",
                      "title": {
                        "standoff": 15
                      },
                      "zerolinecolor": "white",
                      "zerolinewidth": 2
                    },
                    "yaxis": {
                      "automargin": true,
                      "gridcolor": "white",
                      "linecolor": "white",
                      "ticks": "",
                      "title": {
                        "standoff": 15
                      },
                      "zerolinecolor": "white",
                      "zerolinewidth": 2
                    }
                  }
                },
                "title": {
                  "text": "Global eSports Earnings by Country (from 1980 to 2020)"
                }
              }
            }
          },
          "metadata": {},
          "output_type": "display_data"
        }
      ],
      "source": [
        "fig = px.choropleth(country_earnings,\n",
        "                    locations='Top_Country', \n",
        "                    locationmode='country names',\n",
        "                    color='Top_Country_Earnings',\n",
        "                    hover_name='Top_Country',  \n",
        "                    color_continuous_scale=px.colors.sequential.Plasma)\n",
        "\n",
        "fig.update_layout(title_text='Global eSports Earnings by Country (from 1980 to 2020)')\n",
        "fig.update_layout(coloraxis_colorbar_title='Top Country Earnings ($)')\n",
        "\n",
        "fig.write_html(\"../picture/global_earnings.html\")\n",
        "fig.show()"
      ]
    },
    {
      "cell_type": "code",
      "execution_count": 10,
      "id": "aa1441e8",
      "metadata": {},
      "outputs": [],
      "source": [
        "# players = esports.groupby('GameName')['PlayerNo'].sum().sort_values(ascending=False)\n",
        "# tournaments = esports.groupby('GameName')['TournamentNo'].sum().sort_values(ascending=False)"
      ]
    },
    {
      "cell_type": "code",
      "execution_count": 11,
      "id": "ef88b649",
      "metadata": {},
      "outputs": [],
      "source": [
        "# top_15_players = players.head(15)\n",
        "# other_players = players.iloc[15:].sum()\n",
        "# top_15_players['Other'] = other_players\n",
        "# print(\"The game which has the highest number of players is:\", players.index[0])\n",
        "\n",
        "# print()\n",
        "# plt.figure(figsize=(10, 8))\n",
        "# plt.pie(top_15_players, labels=top_15_players.index, autopct='%1.1f%%')\n",
        "# plt.title('Top 15 Games that have Highest Number of Players (Including Other)', fontsize = 15)\n",
        "# plt.axis('equal')  \n",
        "# plt.show()"
      ]
    },
    {
      "cell_type": "code",
      "execution_count": 12,
      "id": "10827ab1",
      "metadata": {},
      "outputs": [],
      "source": [
        "# top_15_tournaments = tournaments.head(15)\n",
        "# other_tournaments_sum = tournaments.iloc[15:].sum()\n",
        "# top_15_tournaments['Other'] = other_tournaments_sum\n",
        "# print(\"The game which has the highest number of tournaments is:\", tournaments.index[0])\n",
        "# print()\n",
        "# plt.figure(figsize=(10, 8))\n",
        "# plt.pie(top_15_tournaments, labels=top_15_tournaments.index, autopct='%1.1f%%')\n",
        "# plt.title('Top 15 Games that have Highest Number of Tournaments (Including Other)', fontsize = 15)\n",
        "# plt.axis('equal')  \n",
        "# plt.show()"
      ]
    },
    {
      "cell_type": "code",
      "execution_count": 13,
      "id": "fd3ae58e",
      "metadata": {},
      "outputs": [],
      "source": [
        "# money = esports.groupby('GameName')['TotalMoney'].sum().sort_values(ascending=False)\n",
        "# print(\"The game with the highest total prize money is:\", money.index[0])"
      ]
    },
    {
      "cell_type": "code",
      "execution_count": 14,
      "id": "335ed975",
      "metadata": {},
      "outputs": [],
      "source": [
        "# top_money = money.head(10)\n",
        "# other_money = money.iloc[10:].sum()\n",
        "# top_money['Other'] = other_money\n",
        "\n",
        "# explode = [0.05] * len(top_money)\n",
        "# plt.figure(figsize=(10, 8))\n",
        "# circle = plt.Circle((0,0),0.7, color = 'white')\n",
        "# plt.pie(top_money, labels = top_money.index, autopct = '%1.1f%%', explode = explode)\n",
        "# plt.title('Top 10 Games that have Highest Prize Money', fontsize = 15)\n",
        "# p = plt.gcf()\n",
        "# p.gca().add_artist(circle)\n",
        "# plt.show()"
      ]
    },
    {
      "cell_type": "code",
      "execution_count": 15,
      "id": "122e2e06",
      "metadata": {},
      "outputs": [],
      "source": [
        "# plt.figure(figsize=(12, 8))\n",
        "# (genre_money / 1e6).sort_values().plot(kind='barh')\n",
        "\n",
        "# plt.title('Total Prize Money by Game Genre (in millions of $)')\n",
        "# plt.xlabel('Total Prize Money (in millions of $)')\n",
        "# plt.ylabel('Game Genre')\n",
        "\n",
        "# ax = plt.gca()\n",
        "# ax.get_xaxis().set_major_formatter(plt.FuncFormatter(lambda x, loc: \"{:.0f}\".format(x)))\n",
        "# ax.set_axisbelow(True)\n",
        "# plt.grid(axis='x', linestyle='--', color='gray', alpha=0.7)\n",
        "\n",
        "# plt.show()"
      ]
    },
    {
      "cell_type": "code",
      "execution_count": 19,
      "id": "4e7ff1e2",
      "metadata": {},
      "outputs": [],
      "source": [
        "# grouped = esports.groupby(['Genre', 'Top_Country']).size().reset_index(name='Count')\n",
        "\n",
        "# genre_country = grouped.loc[grouped.groupby('Top_Country')['Count'].idxmax()]"
      ]
    },
    {
      "cell_type": "code",
      "execution_count": 20,
      "id": "56d23de9",
      "metadata": {},
      "outputs": [],
      "source": [
        "# fig = px.choropleth(genre_country,\n",
        "#                     locations='Top_Country',\n",
        "#                     locationmode='country names',\n",
        "#                     color='Genre',\n",
        "#                     hover_name='Top_Country',\n",
        "#                     hover_data=['Genre', 'Count'],\n",
        "#                     title='Most Proficient eSports Genre by Country')\n",
        "\n",
        "# fig.update_layout(legend_title_text='eSports Genre')\n",
        "\n",
        "# fig.show()"
      ]
    },
    {
      "cell_type": "code",
      "execution_count": 21,
      "id": "97b3b4ab",
      "metadata": {},
      "outputs": [],
      "source": [
        "# data = pd.merge(esports, general, left_on=['GameName', 'Genre', 'Releaseyear'], \n",
        "#                 right_on=['Game','Genre', 'ReleaseDate'], how='inner')\n",
        "# data = data.drop(['IdNo', 'Game', 'ReleaseDate'], axis = 1)\n",
        "# data.head()"
      ]
    }
  ],
  "metadata": {
    "kernelspec": {
      "display_name": "Python 3 (ipykernel)",
      "language": "python",
      "name": "python3"
    },
    "language_info": {
      "codemirror_mode": {
        "name": "ipython",
        "version": 3
      },
      "file_extension": ".py",
      "mimetype": "text/x-python",
      "name": "python",
      "nbconvert_exporter": "python",
      "pygments_lexer": "ipython3",
      "version": "3.11.5"
    }
  },
  "nbformat": 4,
  "nbformat_minor": 5
}
