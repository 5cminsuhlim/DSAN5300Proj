{
 "cells": [
  {
   "cell_type": "markdown",
   "metadata": {},
   "source": [
    "https://plotly.com/python/dropdowns/"
   ]
  },
  {
   "cell_type": "code",
   "execution_count": 1,
   "metadata": {},
   "outputs": [
    {
     "data": {
      "text/html": [
       "\n",
       "        <iframe\n",
       "            width=\"100%\"\n",
       "            height=\"650\"\n",
       "            src=\"http://127.0.0.1:8050/\"\n",
       "            frameborder=\"0\"\n",
       "            allowfullscreen\n",
       "            \n",
       "        ></iframe>\n",
       "        "
      ],
      "text/plain": [
       "<IPython.lib.display.IFrame at 0x25f8e2daf10>"
      ]
     },
     "metadata": {},
     "output_type": "display_data"
    }
   ],
   "source": [
    "import pandas as pd\n",
    "import plotly.express as px\n",
    "import dash\n",
    "from dash import dcc, html, Input, Output\n",
    "\n",
    "percentage_data = pd.read_csv(\"../data/percentage_data.csv\")\n",
    "\n",
    "#define race colors\n",
    "race_colors = {\n",
    "    'Zerg': '#25033D',\n",
    "    'Terran': '#315BE6',\n",
    "    'Protoss': '#F8DC52',\n",
    "    'Random': '#CCCCCC'  # Default color for undefined races\n",
    "}\n",
    "\n",
    "#sort ranks in the desired order\n",
    "rank_order = ['Bronze', 'Silver', 'Gold', 'Platinum', 'Diamond', 'Master', 'Grandmaster']\n",
    "\n",
    "#initialize the Dash app\n",
    "app = dash.Dash(__name__)\n",
    "\n",
    "#layout of the app\n",
    "app.layout = html.Div([\n",
    "    dcc.Dropdown(\n",
    "        id='region-dropdown',\n",
    "        options=[{'label': region, 'value': region} for region in percentage_data['Region'].unique()],\n",
    "        value=percentage_data['Region'].unique()[0]  \n",
    "    ),\n",
    "    dcc.Dropdown(\n",
    "        id='rank-dropdown',\n",
    "        options=[{'label': rank, 'value': rank} for rank in rank_order],\n",
    "        value=rank_order[0]  \n",
    "    ),\n",
    "    dcc.Graph(id='line-plot')\n",
    "])\n",
    "\n",
    "#callback to update the plot based on dropdowns\n",
    "@app.callback(\n",
    "    Output('line-plot', 'figure'),\n",
    "    [Input('region-dropdown', 'value'),\n",
    "     Input('rank-dropdown', 'value')]\n",
    ")\n",
    "def update_plot(selected_region, selected_rank):\n",
    "    filtered_data = percentage_data[(percentage_data['Region'] == selected_region) &\n",
    "                                    (percentage_data['Rank'] == selected_rank)]\n",
    "\n",
    "    fig = px.line(filtered_data, x='Season', y='Percentage', color='Race',\n",
    "                  color_discrete_map=race_colors,\n",
    "                  title=f'Player Distribution in {selected_rank} Rank - {selected_region} Region')\n",
    "\n",
    "    #update the trace names to include region and rank\n",
    "    for trace in fig.data:\n",
    "        race = trace.name\n",
    "        trace.name = f'{race}-{selected_region}-{selected_rank}'\n",
    "\n",
    "    #update figure layout for blank background and no grid lines\n",
    "    fig.update_layout(\n",
    "        plot_bgcolor='white',  #background to white\n",
    "        xaxis_showgrid=False,  #remove x-axis grid lines\n",
    "        yaxis_showgrid=False,  #remove y-axis grid lines\n",
    "        xaxis_zeroline=False,  #remove x-axis zero line\n",
    "        yaxis_zeroline=False   #remove y-axis zero line\n",
    "    )\n",
    "\n",
    "    return fig\n",
    "\n",
    "#run the app\n",
    "if __name__ == '__main__':\n",
    "    app.run_server(debug=True)\n"
   ]
  },
  {
   "cell_type": "code",
   "execution_count": 1,
   "metadata": {},
   "outputs": [
    {
     "name": "stderr",
     "output_type": "stream",
     "text": [
      "c:\\Users\\73587\\miniconda3\\envs\\dsan5200\\Lib\\site-packages\\dash\\dash.py:538: UserWarning:\n",
      "\n",
      "JupyterDash is deprecated, use Dash instead.\n",
      "See https://dash.plotly.com/dash-in-jupyter for more details.\n",
      "\n"
     ]
    },
    {
     "data": {
      "text/html": [
       "\n",
       "        <iframe\n",
       "            width=\"100%\"\n",
       "            height=\"650\"\n",
       "            src=\"http://127.0.0.1:8050/\"\n",
       "            frameborder=\"0\"\n",
       "            allowfullscreen\n",
       "            \n",
       "        ></iframe>\n",
       "        "
      ],
      "text/plain": [
       "<IPython.lib.display.IFrame at 0x20991b2f9d0>"
      ]
     },
     "metadata": {},
     "output_type": "display_data"
    },
    {
     "data": {
      "text/html": [
       "\n",
       "        <iframe\n",
       "            width=\"100%\"\n",
       "            height=\"650\"\n",
       "            src=\"http://127.0.0.1:8050/\"\n",
       "            frameborder=\"0\"\n",
       "            allowfullscreen\n",
       "            \n",
       "        ></iframe>\n",
       "        "
      ],
      "text/plain": [
       "<IPython.lib.display.IFrame at 0x209950652d0>"
      ]
     },
     "metadata": {},
     "output_type": "display_data"
    }
   ],
   "source": [
    "#use jupyter_dash as an alternative since dash does not show up in ipynb when upload to github\n",
    "import pandas as pd\n",
    "import plotly.express as px\n",
    "from jupyter_dash import JupyterDash  # Import JupyterDash\n",
    "from dash import dcc, html, Input, Output\n",
    "\n",
    "# Load your data\n",
    "percentage_data = pd.read_csv(\"../data/percentage_data.csv\")\n",
    "\n",
    "# Define race colors\n",
    "race_colors = {\n",
    "    'Zerg': '#25033D',\n",
    "    'Terran': '#315BE6',\n",
    "    'Protoss': '#F8DC52',\n",
    "    'Random': '#CCCCCC'\n",
    "}\n",
    "\n",
    "# Sort ranks in the desired order\n",
    "rank_order = ['Bronze', 'Silver', 'Gold', 'Platinum', 'Diamond', 'Master', 'Grandmaster']\n",
    "\n",
    "# Initialize the Dash app, using JupyterDash instead of dash.Dash\n",
    "app = JupyterDash(__name__)\n",
    "\n",
    "# Layout of the app\n",
    "app.layout = html.Div([\n",
    "    dcc.Dropdown(\n",
    "        id='region-dropdown',\n",
    "        options=[{'label': region, 'value': region} for region in percentage_data['Region'].unique()],\n",
    "        value=percentage_data['Region'].unique()[0]\n",
    "    ),\n",
    "    dcc.Dropdown(\n",
    "        id='rank-dropdown',\n",
    "        options=[{'label': rank, 'value': rank} for rank in rank_order],\n",
    "        value=rank_order[0]\n",
    "    ),\n",
    "    dcc.Graph(id='line-plot')\n",
    "])\n",
    "\n",
    "# Callback to update the plot based on dropdowns\n",
    "@app.callback(\n",
    "    Output('line-plot', 'figure'),\n",
    "    [Input('region-dropdown', 'value'),\n",
    "     Input('rank-dropdown', 'value')]\n",
    ")\n",
    "def update_plot(selected_region, selected_rank):\n",
    "    filtered_data = percentage_data[(percentage_data['Region'] == selected_region) &\n",
    "                                    (percentage_data['Rank'] == selected_rank)]\n",
    "\n",
    "    fig = px.line(filtered_data, x='Season', y='Percentage', color='Race',\n",
    "                  color_discrete_map=race_colors,\n",
    "                  title=f'Player Distribution in {selected_rank} Rank - {selected_region} Region')\n",
    "\n",
    "    # Update the trace names to include region and rank\n",
    "    for trace in fig.data:\n",
    "        race = trace.name\n",
    "        trace.name = f'{race}-{selected_region}-{selected_rank}'\n",
    "\n",
    "    # Update figure layout for blank background and no grid lines\n",
    "    fig.update_layout(\n",
    "        plot_bgcolor='white',\n",
    "        xaxis_showgrid=False,\n",
    "        yaxis_showgrid=False,\n",
    "        xaxis_zeroline=False,\n",
    "        yaxis_zeroline=False\n",
    "    )\n",
    "\n",
    "    return fig\n",
    "\n",
    "# Run the app within the notebook\n",
    "app.run_server(mode='inline')\n"
   ]
  }
 ],
 "metadata": {
  "kernelspec": {
   "display_name": "dsan5200",
   "language": "python",
   "name": "python3"
  },
  "language_info": {
   "codemirror_mode": {
    "name": "ipython",
    "version": 3
   },
   "file_extension": ".py",
   "mimetype": "text/x-python",
   "name": "python",
   "nbconvert_exporter": "python",
   "pygments_lexer": "ipython3",
   "version": "3.11.7"
  }
 },
 "nbformat": 4,
 "nbformat_minor": 2
}
